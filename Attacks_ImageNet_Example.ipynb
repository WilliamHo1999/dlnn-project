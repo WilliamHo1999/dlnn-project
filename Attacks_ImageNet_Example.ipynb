{
 "cells": [
  {
   "cell_type": "markdown",
   "id": "adf090d7-7a2a-419d-ba2f-076123f8ed96",
   "metadata": {},
   "source": [
    "# Fast Gradient Sign Attack on some ImageNet samples on a Trained ResNet-18"
   ]
  },
  {
   "cell_type": "code",
   "execution_count": null,
   "id": "fe0c8e7d-e3b3-42f5-a6e4-72d3b8b030d1",
   "metadata": {},
   "outputs": [],
   "source": [
    "import torch\n",
    "import torch.nn as nn\n",
    "import torch.nn.functional as F\n",
    "from torchvision import models\n",
    "from torchvision import transforms\n",
    "\n",
    "from src.data.ImageNet300 import ImageNet300Dataset\n",
    "from src.utils.getimagenetclasses import get_classes\n",
    "from src.attacks.attacks import FastGradientSign, ProjectedGradientDescent\n",
    "from src.explainability.GradCam import GradCam\n",
    "from src.utils.ImageDisplayerGradCam import ImageDisplayerGradCam"
   ]
  },
  {
   "cell_type": "code",
   "execution_count": null,
   "id": "87cac138-c47a-4eb5-bfbd-251adb99c2c1",
   "metadata": {},
   "outputs": [],
   "source": [
    "resnet_pretrained = models.resnet18(pretrained = True)\n",
    "resnet_pretrained.eval()\n",
    "pass\n",
    "\n",
    "root_dir = r\"C:\\Users\\willi\\Documents\\in5400\\mand1\\prelimcode\\students\\data\\imagenetval300imgs\\imagenet300\"\n",
    "xmllabeldir = r\"C:\\Users\\willi\\Documents\\in5400\\mand1\\prelimcode\\students\\data\\imagenetval300imgs\\val\"\n",
    "synsetfile = r\"C:\\Users\\willi\\Documents\\in5400\\mand1\\prelimcode\\students\\synset_words.txt\"\n",
    "\n",
    "image_transforms =  transforms.Compose([\n",
    "          transforms.Resize((256,256)),\n",
    "          transforms.ToTensor(),\n",
    "          transforms.Normalize([0.485, 0.456, 0.406], [0.229, 0.224, 0.225])\n",
    "    ])\n",
    "\n",
    "\n",
    "dataset = ImageNet300Dataset(root_dir, xmllabeldir, synsetfile, 300, image_transforms)\n",
    "dataloader = torch.utils.data.DataLoader(dataset, batch_size = 8, shuffle = False)\n",
    "\n",
    "classes = get_classes()\n",
    "\n",
    "for samp in dataloader:\n",
    "    break\n",
    "loss_fn = nn.CrossEntropyLoss()"
   ]
  },
  {
   "cell_type": "markdown",
   "id": "595ab5bd-8807-45f3-8a6c-a5519d2674c3",
   "metadata": {},
   "source": [
    "# Fast Gradient Sign Method"
   ]
  },
  {
   "cell_type": "code",
   "execution_count": null,
   "id": "e38bd90c-6e6e-4c57-8a8f-d973ab9b35b1",
   "metadata": {},
   "outputs": [],
   "source": [
    "fgs = FastGradientSign(resnet_pretrained, loss_fn, return_logits=True)"
   ]
  },
  {
   "cell_type": "markdown",
   "id": "bceb5d92-53bd-40d9-adff-d06c98d6a7f3",
   "metadata": {},
   "source": [
    "## Attack\n"
   ]
  },
  {
   "cell_type": "code",
   "execution_count": null,
   "id": "a336a624-1593-4958-85b2-7ad9814ed060",
   "metadata": {},
   "outputs": [],
   "source": [
    "perturbed_images, org_pred, new_pred, outputs, new_outputs = fgs(samp['image'], samp['label'])"
   ]
  },
  {
   "cell_type": "markdown",
   "id": "da41a5ec-0c08-418d-9598-f8719b804f51",
   "metadata": {},
   "source": [
    "## How many miss classified\n"
   ]
  },
  {
   "cell_type": "code",
   "execution_count": null,
   "id": "32afe49e-aeac-4d16-9702-4904e34f9642",
   "metadata": {},
   "outputs": [],
   "source": [
    "new_classification = (org_pred != new_pred)\n",
    "torch.sum(new_classification).item(), new_classification"
   ]
  },
  {
   "cell_type": "code",
   "execution_count": null,
   "id": "7b75dcc9-42fc-4689-b38f-2e6fe5e1833f",
   "metadata": {},
   "outputs": [],
   "source": [
    "missclassified = (org_pred != samp['label'])\n",
    "torch.sum(missclassified).item(), missclassified"
   ]
  },
  {
   "cell_type": "markdown",
   "id": "8ea29bae-71a9-4306-b76c-c2e79c5e965e",
   "metadata": {},
   "source": [
    "## Choose a sample"
   ]
  },
  {
   "cell_type": "code",
   "execution_count": null,
   "id": "2d757900-7dab-4e31-8d19-ceb34340fb54",
   "metadata": {},
   "outputs": [],
   "source": [
    "samp_idx = 2"
   ]
  },
  {
   "cell_type": "markdown",
   "id": "afaa14d1-9385-4876-ac8a-f4c607878c98",
   "metadata": {},
   "source": [
    "## Logits of most confident class:\n"
   ]
  },
  {
   "cell_type": "code",
   "execution_count": null,
   "id": "e0334b1d-1cb0-404e-aac3-6412241b8f5b",
   "metadata": {},
   "outputs": [],
   "source": [
    "nn.functional.softmax(outputs, dim = 1)[samp_idx].max(), nn.functional.softmax(outputs, dim = 1)[samp_idx].argmax().item()"
   ]
  },
  {
   "cell_type": "markdown",
   "id": "ed61748c-dcf2-4049-89e1-3b8544b28cb9",
   "metadata": {},
   "source": [
    "## Logits of most confident class AFTER ATTACK\n"
   ]
  },
  {
   "cell_type": "code",
   "execution_count": null,
   "id": "f197cadf-044e-4e0a-88bb-1a737e52ef1e",
   "metadata": {},
   "outputs": [],
   "source": [
    "nn.functional.softmax(new_outputs, dim = 1)[samp_idx].max(), nn.functional.softmax(new_outputs, dim = 1)[samp_idx].argmax().item()"
   ]
  },
  {
   "cell_type": "markdown",
   "id": "88348a81-a8d9-47c6-b825-e2ad1fbdda5b",
   "metadata": {},
   "source": [
    "## Logits of the old predicted class AFTER ATTACK"
   ]
  },
  {
   "cell_type": "code",
   "execution_count": null,
   "id": "c6efb829-6c6c-40b9-aae4-d95536dbee74",
   "metadata": {},
   "outputs": [],
   "source": [
    "nn.functional.softmax(new_outputs, dim = 1)[samp_idx][org_pred[samp_idx]]"
   ]
  },
  {
   "cell_type": "markdown",
   "id": "b68b7977-ecbe-41fe-a791-6f049f6c3f54",
   "metadata": {},
   "source": [
    "## Grad-CAM:"
   ]
  },
  {
   "cell_type": "code",
   "execution_count": null,
   "id": "0b3baac6-e61a-40c7-809c-f3f694bf7c83",
   "metadata": {},
   "outputs": [],
   "source": [
    "target_layer = resnet_pretrained.layer4[-1].conv2\n",
    "cam = GradCam(resnet_pretrained, target_layer, 10, multi_label = False)\n",
    "\n",
    "classes = get_classes()\n",
    "\n",
    "image_dispalyer = ImageDisplayerGradCam(resnet_pretrained, \n",
    "        cam, \n",
    "        classes,\n",
    "        reshape = transforms.Resize((256,256)), \n",
    "        multi_label = False, \n",
    "        image_dir = 'image_net_dir',\n",
    "        pdf = False)"
   ]
  },
  {
   "cell_type": "markdown",
   "id": "3316f619-1982-4692-b3dc-dcb38080d6d2",
   "metadata": {},
   "source": [
    "### Perturbed"
   ]
  },
  {
   "cell_type": "code",
   "execution_count": null,
   "id": "750de086-a47b-48d8-be0a-e5992f3c3c16",
   "metadata": {},
   "outputs": [],
   "source": [
    "perturbed_sample = {'image':perturbed_images[samp_idx], 'label': samp['label'][samp_idx], 'filename':samp['filename'][samp_idx]}"
   ]
  },
  {
   "cell_type": "code",
   "execution_count": null,
   "id": "3531b318-a900-42a5-956b-64bb8e88a0b7",
   "metadata": {},
   "outputs": [],
   "source": [
    "image_dispalyer.display_images(perturbed_sample, display_labels_or_predictions = True)\n",
    "image_dispalyer.display_images(perturbed_sample, display_labels_or_predictions = False)"
   ]
  },
  {
   "cell_type": "markdown",
   "id": "cddbcd49-121c-4d3f-aac6-fdf643b882a9",
   "metadata": {},
   "source": [
    "### Non-perturbed:"
   ]
  },
  {
   "cell_type": "code",
   "execution_count": null,
   "id": "bf21af91-e3c9-4f41-9640-bff6465160a2",
   "metadata": {},
   "outputs": [],
   "source": [
    "normal_sample = {'image':samp['image'][samp_idx], 'label': samp['label'][samp_idx], 'filename':samp['filename'][samp_idx]}"
   ]
  },
  {
   "cell_type": "code",
   "execution_count": null,
   "id": "2371eb6d-f349-47e4-9679-9520486e0226",
   "metadata": {},
   "outputs": [],
   "source": [
    "image_dispalyer.display_images(normal_sample, display_labels_or_predictions = True)\n",
    "image_dispalyer.display_images(normal_sample, display_labels_or_predictions = False)"
   ]
  },
  {
   "cell_type": "markdown",
   "id": "d733c1d1-4f28-489a-97ee-a5c505b1fb92",
   "metadata": {},
   "source": [
    "# Projected Gradient Descent Attack"
   ]
  },
  {
   "cell_type": "code",
   "execution_count": null,
   "id": "830cbdd1-f031-4614-9620-b622f150d4f3",
   "metadata": {},
   "outputs": [],
   "source": [
    "pgd = ProjectedGradientDescent(resnet_pretrained, loss_fn, return_logits=True)"
   ]
  },
  {
   "cell_type": "code",
   "execution_count": null,
   "id": "b933f0ee-e613-4da4-afff-d836b7b29380",
   "metadata": {},
   "outputs": [],
   "source": [
    "perturbed_images, original_preds, new_preds, outputs, new_outputs = pgd(samp['image'], samp['label'])"
   ]
  },
  {
   "cell_type": "code",
   "execution_count": null,
   "id": "4d966800-d7ce-4954-97db-94f5dc24ce7e",
   "metadata": {},
   "outputs": [],
   "source": [
    "new_classification = (org_pred != new_pred)\n",
    "torch.sum(new_classification).item(), new_classification"
   ]
  },
  {
   "cell_type": "code",
   "execution_count": null,
   "id": "a4f821ed-e8cf-446d-88ee-896ba7289124",
   "metadata": {},
   "outputs": [],
   "source": [
    "missclassified = (org_pred != samp['label'])\n",
    "torch.sum(missclassified).item(), missclassified"
   ]
  },
  {
   "cell_type": "code",
   "execution_count": null,
   "id": "860748cb-2fa1-473a-a9ec-3883f29c098c",
   "metadata": {},
   "outputs": [],
   "source": [
    "samp_idx = 0"
   ]
  },
  {
   "cell_type": "markdown",
   "id": "4b240edc-c88f-4309-8b7a-c5f05e07b4b7",
   "metadata": {},
   "source": [
    "## Logits of most confident class:\n"
   ]
  },
  {
   "cell_type": "code",
   "execution_count": null,
   "id": "ca359471-6c83-47ab-9ae8-b88122bfb3f5",
   "metadata": {},
   "outputs": [],
   "source": [
    "nn.functional.softmax(outputs, dim = 1)[samp_idx].max(), nn.functional.softmax(outputs, dim = 1)[samp_idx].argmax().item()"
   ]
  },
  {
   "cell_type": "markdown",
   "id": "631ff29e-0136-46d7-a919-8f0d680ed1bc",
   "metadata": {},
   "source": [
    "## Logits of most confident class AFTER ATTACK\n"
   ]
  },
  {
   "cell_type": "code",
   "execution_count": null,
   "id": "35b120a8-e9dd-4547-8950-a48641e4dae7",
   "metadata": {},
   "outputs": [],
   "source": [
    "nn.functional.softmax(new_outputs, dim = 1)[samp_idx].max(), nn.functional.softmax(new_outputs, dim = 1)[samp_idx].argmax().item()"
   ]
  },
  {
   "cell_type": "markdown",
   "id": "ce67c9f9-bf03-497f-ba4c-ac32b273993a",
   "metadata": {},
   "source": [
    "## Logits of the old predicted class AFTER ATTACK"
   ]
  },
  {
   "cell_type": "code",
   "execution_count": null,
   "id": "f25d7330-2b07-408c-b0f0-4966f07a5ed7",
   "metadata": {},
   "outputs": [],
   "source": [
    "nn.functional.softmax(new_outputs, dim = 1)[samp_idx][original_preds[samp_idx]]"
   ]
  },
  {
   "cell_type": "markdown",
   "id": "69cbdb36-2ec4-4c30-80f2-70ddd7f2b050",
   "metadata": {},
   "source": [
    "## Grad-CAM"
   ]
  },
  {
   "cell_type": "code",
   "execution_count": null,
   "id": "24a6521a-15c2-4bc6-8a84-c0afbae31b14",
   "metadata": {},
   "outputs": [],
   "source": [
    "target_layer = resnet_pretrained.layer4[-1].conv2\n",
    "cam = GradCam(resnet_pretrained, target_layer, 10, multi_label = False)\n",
    "\n",
    "classes = get_classes()\n",
    "\n",
    "image_dispalyer = ImageDisplayerGradCam(resnet_pretrained, \n",
    "        cam, \n",
    "        classes,\n",
    "        reshape = transforms.Resize((256,256)), \n",
    "        multi_label = False, \n",
    "        image_dir = 'image_net_dir',\n",
    "        pdf = False)"
   ]
  },
  {
   "cell_type": "markdown",
   "id": "43902895-5418-4384-bc18-e00b15eb4d15",
   "metadata": {},
   "source": [
    "## Perturbed"
   ]
  },
  {
   "cell_type": "code",
   "execution_count": null,
   "id": "d534bff6-ad05-4179-8577-b4e391ddf36f",
   "metadata": {},
   "outputs": [],
   "source": [
    "perturbed_sample = {'image':perturbed_images[samp_idx], 'label': samp['label'][samp_idx], 'filename':samp['filename'][samp_idx]}"
   ]
  },
  {
   "cell_type": "code",
   "execution_count": null,
   "id": "8c7fb7b5-c8c8-4042-9cb9-ebcdffdd718f",
   "metadata": {},
   "outputs": [],
   "source": [
    "image_dispalyer.display_images(perturbed_sample, display_labels_or_predictions = True)\n",
    "image_dispalyer.display_images(perturbed_sample, display_labels_or_predictions = False)"
   ]
  },
  {
   "cell_type": "markdown",
   "id": "48ed9a4b-4103-491d-8713-9b5537f7e0b9",
   "metadata": {},
   "source": [
    "## Non-perturbed"
   ]
  },
  {
   "cell_type": "code",
   "execution_count": null,
   "id": "5b2e82ce-cedd-4f6b-b092-1f961df7f8b4",
   "metadata": {},
   "outputs": [],
   "source": [
    "normal_sample = {'image':samp['image'][samp_idx], 'label': samp['label'][samp_idx], 'filename':samp['filename'][samp_idx]}"
   ]
  },
  {
   "cell_type": "code",
   "execution_count": null,
   "id": "fcf40bf8-383a-49e9-a873-091a940af807",
   "metadata": {},
   "outputs": [],
   "source": [
    "image_dispalyer.display_images(normal_sample, display_labels_or_predictions = True)\n",
    "image_dispalyer.display_images(normal_sample, display_labels_or_predictions = False)"
   ]
  }
 ],
 "metadata": {
  "kernelspec": {
   "display_name": "Python 3",
   "language": "python",
   "name": "python3"
  },
  "language_info": {
   "codemirror_mode": {
    "name": "ipython",
    "version": 3
   },
   "file_extension": ".py",
   "mimetype": "text/x-python",
   "name": "python",
   "nbconvert_exporter": "python",
   "pygments_lexer": "ipython3",
   "version": "3.7.6"
  }
 },
 "nbformat": 4,
 "nbformat_minor": 5
}
