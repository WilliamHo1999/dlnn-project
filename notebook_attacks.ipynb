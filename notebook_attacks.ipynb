{
 "cells": [
  {
   "cell_type": "markdown",
   "metadata": {},
   "source": [
    "# Adversarial attacks playground\n",
    "\n",
    "NNDL Project Fall 2022\n",
    "2022-11-30"
   ]
  },
  {
   "cell_type": "markdown",
   "metadata": {},
   "source": [
    "## 0. Notebook Setup"
   ]
  },
  {
   "cell_type": "markdown",
   "metadata": {},
   "source": [
    "Imports"
   ]
  },
  {
   "cell_type": "code",
   "execution_count": 2,
   "metadata": {},
   "outputs": [],
   "source": [
    "import os\n",
    "\n",
    "import torch\n",
    "import torchvision\n",
    "from torchvision import models as models\n",
    "\n",
    "from src.explainability.GradCam import GradCam\n",
    "from src.utils.ImageDisplayerGradCam import ImageDisplayerGradCam\n",
    "from src.data.ImageNet300 import ImageNet300Dataset\n",
    "from src.utils.getimagenetclasses import get_classes"
   ]
  },
  {
   "cell_type": "code",
   "execution_count": 3,
   "metadata": {},
   "outputs": [
    {
     "data": {
      "text/plain": [
       "'1.13.0'"
      ]
     },
     "execution_count": 3,
     "metadata": {},
     "output_type": "execute_result"
    }
   ],
   "source": [
    "torch.__version__"
   ]
  },
  {
   "cell_type": "markdown",
   "metadata": {},
   "source": [
    "global params"
   ]
  },
  {
   "cell_type": "code",
   "execution_count": 27,
   "metadata": {},
   "outputs": [
    {
     "data": {
      "text/plain": [
       "''"
      ]
     },
     "execution_count": 27,
     "metadata": {},
     "output_type": "execute_result"
    }
   ],
   "source": []
  },
  {
   "cell_type": "code",
   "execution_count": 4,
   "metadata": {},
   "outputs": [
    {
     "name": "stdout",
     "output_type": "stream",
     "text": [
      "/Users/lennartschulze/Downloads/NNDL/project/dlnn-project/src/data/\n"
     ]
    }
   ],
   "source": [
    "DATA_FOLDER = os.path.join(os.path.abspath(\"\"),\"src/data/\")\n",
    "USE_CUDA = False\n",
    "\n",
    "print(DATA_FOLDER)"
   ]
  },
  {
   "cell_type": "markdown",
   "metadata": {},
   "source": [
    "## 1. Params"
   ]
  },
  {
   "cell_type": "markdown",
   "metadata": {},
   "source": [
    "### MNIST & GoogLeNet"
   ]
  },
  {
   "cell_type": "markdown",
   "metadata": {},
   "source": [
    "#### MNIST dataset"
   ]
  },
  {
   "cell_type": "code",
   "execution_count": 5,
   "metadata": {},
   "outputs": [],
   "source": [
    "dataset = torchvision.datasets.MNIST(root=DATA_FOLDER, \n",
    "    train=False,download=True, transform=torchvision.transforms.ToTensor())"
   ]
  },
  {
   "cell_type": "markdown",
   "metadata": {},
   "source": [
    "#### GoogLeNet Model"
   ]
  },
  {
   "cell_type": "code",
   "execution_count": 6,
   "metadata": {},
   "outputs": [
    {
     "data": {
      "text/plain": [
       "['alexnet',\n",
       " 'convnext_base',\n",
       " 'convnext_large',\n",
       " 'convnext_small',\n",
       " 'convnext_tiny',\n",
       " 'deeplabv3_mobilenet_v3_large',\n",
       " 'deeplabv3_resnet101',\n",
       " 'deeplabv3_resnet50',\n",
       " 'densenet121',\n",
       " 'densenet161',\n",
       " 'densenet169',\n",
       " 'densenet201',\n",
       " 'efficientnet_b0',\n",
       " 'efficientnet_b1',\n",
       " 'efficientnet_b2',\n",
       " 'efficientnet_b3',\n",
       " 'efficientnet_b4',\n",
       " 'efficientnet_b5',\n",
       " 'efficientnet_b6',\n",
       " 'efficientnet_b7',\n",
       " 'efficientnet_v2_l',\n",
       " 'efficientnet_v2_m',\n",
       " 'efficientnet_v2_s',\n",
       " 'fasterrcnn_mobilenet_v3_large_320_fpn',\n",
       " 'fasterrcnn_mobilenet_v3_large_fpn',\n",
       " 'fasterrcnn_resnet50_fpn',\n",
       " 'fasterrcnn_resnet50_fpn_v2',\n",
       " 'fcn_resnet101',\n",
       " 'fcn_resnet50',\n",
       " 'fcos_resnet50_fpn',\n",
       " 'googlenet',\n",
       " 'inception_v3',\n",
       " 'keypointrcnn_resnet50_fpn',\n",
       " 'lraspp_mobilenet_v3_large',\n",
       " 'maskrcnn_resnet50_fpn',\n",
       " 'maskrcnn_resnet50_fpn_v2',\n",
       " 'maxvit_t',\n",
       " 'mc3_18',\n",
       " 'mnasnet0_5',\n",
       " 'mnasnet0_75',\n",
       " 'mnasnet1_0',\n",
       " 'mnasnet1_3',\n",
       " 'mobilenet_v2',\n",
       " 'mobilenet_v3_large',\n",
       " 'mobilenet_v3_small',\n",
       " 'mvit_v1_b',\n",
       " 'mvit_v2_s',\n",
       " 'quantized_googlenet',\n",
       " 'quantized_inception_v3',\n",
       " 'quantized_mobilenet_v2',\n",
       " 'quantized_mobilenet_v3_large',\n",
       " 'quantized_resnet18',\n",
       " 'quantized_resnet50',\n",
       " 'quantized_resnext101_32x8d',\n",
       " 'quantized_resnext101_64x4d',\n",
       " 'quantized_shufflenet_v2_x0_5',\n",
       " 'quantized_shufflenet_v2_x1_0',\n",
       " 'quantized_shufflenet_v2_x1_5',\n",
       " 'quantized_shufflenet_v2_x2_0',\n",
       " 'r2plus1d_18',\n",
       " 'r3d_18',\n",
       " 'raft_large',\n",
       " 'raft_small',\n",
       " 'regnet_x_16gf',\n",
       " 'regnet_x_1_6gf',\n",
       " 'regnet_x_32gf',\n",
       " 'regnet_x_3_2gf',\n",
       " 'regnet_x_400mf',\n",
       " 'regnet_x_800mf',\n",
       " 'regnet_x_8gf',\n",
       " 'regnet_y_128gf',\n",
       " 'regnet_y_16gf',\n",
       " 'regnet_y_1_6gf',\n",
       " 'regnet_y_32gf',\n",
       " 'regnet_y_3_2gf',\n",
       " 'regnet_y_400mf',\n",
       " 'regnet_y_800mf',\n",
       " 'regnet_y_8gf',\n",
       " 'resnet101',\n",
       " 'resnet152',\n",
       " 'resnet18',\n",
       " 'resnet34',\n",
       " 'resnet50',\n",
       " 'resnext101_32x8d',\n",
       " 'resnext101_64x4d',\n",
       " 'resnext50_32x4d',\n",
       " 'retinanet_resnet50_fpn',\n",
       " 'retinanet_resnet50_fpn_v2',\n",
       " 's3d',\n",
       " 'shufflenet_v2_x0_5',\n",
       " 'shufflenet_v2_x1_0',\n",
       " 'shufflenet_v2_x1_5',\n",
       " 'shufflenet_v2_x2_0',\n",
       " 'squeezenet1_0',\n",
       " 'squeezenet1_1',\n",
       " 'ssd300_vgg16',\n",
       " 'ssdlite320_mobilenet_v3_large',\n",
       " 'swin_b',\n",
       " 'swin_s',\n",
       " 'swin_t',\n",
       " 'swin_v2_b',\n",
       " 'swin_v2_s',\n",
       " 'swin_v2_t',\n",
       " 'vgg11',\n",
       " 'vgg11_bn',\n",
       " 'vgg13',\n",
       " 'vgg13_bn',\n",
       " 'vgg16',\n",
       " 'vgg16_bn',\n",
       " 'vgg19',\n",
       " 'vgg19_bn',\n",
       " 'vit_b_16',\n",
       " 'vit_b_32',\n",
       " 'vit_h_14',\n",
       " 'vit_l_16',\n",
       " 'vit_l_32',\n",
       " 'wide_resnet101_2',\n",
       " 'wide_resnet50_2']"
      ]
     },
     "execution_count": 6,
     "metadata": {},
     "output_type": "execute_result"
    }
   ],
   "source": [
    "torchvision.models.list_models()"
   ]
  },
  {
   "cell_type": "code",
   "execution_count": 6,
   "metadata": {},
   "outputs": [],
   "source": [
    "#model = models.GoogLeNet(models.GoogLeNet_Weights.IMAGENET1K_V1)\n",
    "#model = models.GoogLeNet(weights=\"IMAGENET1K_V1\")\n",
    "#model = models.googlenet.GoogLeNet(weights=models.googlenet.GoogLeNet_Weights.DEFAULT)\n",
    "\n",
    "### A)\n",
    "model = models.googlenet(weights=models.GoogLeNet_Weights.DEFAULT, transform_input=False)\n",
    "### B)\n",
    "#model = torch.hub.load('pytorch/vision:v0.10.0', 'googlenet', pretrained=True)"
   ]
  },
  {
   "cell_type": "code",
   "execution_count": 7,
   "metadata": {},
   "outputs": [
    {
     "name": "stdout",
     "output_type": "stream",
     "text": [
      "CUDA Available:  False\n"
     ]
    },
    {
     "data": {
      "text/plain": [
       "GoogLeNet(\n",
       "  (conv1): BasicConv2d(\n",
       "    (conv): Conv2d(3, 64, kernel_size=(7, 7), stride=(2, 2), padding=(3, 3), bias=False)\n",
       "    (bn): BatchNorm2d(64, eps=0.001, momentum=0.1, affine=True, track_running_stats=True)\n",
       "  )\n",
       "  (maxpool1): MaxPool2d(kernel_size=3, stride=2, padding=0, dilation=1, ceil_mode=True)\n",
       "  (conv2): BasicConv2d(\n",
       "    (conv): Conv2d(64, 64, kernel_size=(1, 1), stride=(1, 1), bias=False)\n",
       "    (bn): BatchNorm2d(64, eps=0.001, momentum=0.1, affine=True, track_running_stats=True)\n",
       "  )\n",
       "  (conv3): BasicConv2d(\n",
       "    (conv): Conv2d(64, 192, kernel_size=(3, 3), stride=(1, 1), padding=(1, 1), bias=False)\n",
       "    (bn): BatchNorm2d(192, eps=0.001, momentum=0.1, affine=True, track_running_stats=True)\n",
       "  )\n",
       "  (maxpool2): MaxPool2d(kernel_size=3, stride=2, padding=0, dilation=1, ceil_mode=True)\n",
       "  (inception3a): Inception(\n",
       "    (branch1): BasicConv2d(\n",
       "      (conv): Conv2d(192, 64, kernel_size=(1, 1), stride=(1, 1), bias=False)\n",
       "      (bn): BatchNorm2d(64, eps=0.001, momentum=0.1, affine=True, track_running_stats=True)\n",
       "    )\n",
       "    (branch2): Sequential(\n",
       "      (0): BasicConv2d(\n",
       "        (conv): Conv2d(192, 96, kernel_size=(1, 1), stride=(1, 1), bias=False)\n",
       "        (bn): BatchNorm2d(96, eps=0.001, momentum=0.1, affine=True, track_running_stats=True)\n",
       "      )\n",
       "      (1): BasicConv2d(\n",
       "        (conv): Conv2d(96, 128, kernel_size=(3, 3), stride=(1, 1), padding=(1, 1), bias=False)\n",
       "        (bn): BatchNorm2d(128, eps=0.001, momentum=0.1, affine=True, track_running_stats=True)\n",
       "      )\n",
       "    )\n",
       "    (branch3): Sequential(\n",
       "      (0): BasicConv2d(\n",
       "        (conv): Conv2d(192, 16, kernel_size=(1, 1), stride=(1, 1), bias=False)\n",
       "        (bn): BatchNorm2d(16, eps=0.001, momentum=0.1, affine=True, track_running_stats=True)\n",
       "      )\n",
       "      (1): BasicConv2d(\n",
       "        (conv): Conv2d(16, 32, kernel_size=(3, 3), stride=(1, 1), padding=(1, 1), bias=False)\n",
       "        (bn): BatchNorm2d(32, eps=0.001, momentum=0.1, affine=True, track_running_stats=True)\n",
       "      )\n",
       "    )\n",
       "    (branch4): Sequential(\n",
       "      (0): MaxPool2d(kernel_size=3, stride=1, padding=1, dilation=1, ceil_mode=True)\n",
       "      (1): BasicConv2d(\n",
       "        (conv): Conv2d(192, 32, kernel_size=(1, 1), stride=(1, 1), bias=False)\n",
       "        (bn): BatchNorm2d(32, eps=0.001, momentum=0.1, affine=True, track_running_stats=True)\n",
       "      )\n",
       "    )\n",
       "  )\n",
       "  (inception3b): Inception(\n",
       "    (branch1): BasicConv2d(\n",
       "      (conv): Conv2d(256, 128, kernel_size=(1, 1), stride=(1, 1), bias=False)\n",
       "      (bn): BatchNorm2d(128, eps=0.001, momentum=0.1, affine=True, track_running_stats=True)\n",
       "    )\n",
       "    (branch2): Sequential(\n",
       "      (0): BasicConv2d(\n",
       "        (conv): Conv2d(256, 128, kernel_size=(1, 1), stride=(1, 1), bias=False)\n",
       "        (bn): BatchNorm2d(128, eps=0.001, momentum=0.1, affine=True, track_running_stats=True)\n",
       "      )\n",
       "      (1): BasicConv2d(\n",
       "        (conv): Conv2d(128, 192, kernel_size=(3, 3), stride=(1, 1), padding=(1, 1), bias=False)\n",
       "        (bn): BatchNorm2d(192, eps=0.001, momentum=0.1, affine=True, track_running_stats=True)\n",
       "      )\n",
       "    )\n",
       "    (branch3): Sequential(\n",
       "      (0): BasicConv2d(\n",
       "        (conv): Conv2d(256, 32, kernel_size=(1, 1), stride=(1, 1), bias=False)\n",
       "        (bn): BatchNorm2d(32, eps=0.001, momentum=0.1, affine=True, track_running_stats=True)\n",
       "      )\n",
       "      (1): BasicConv2d(\n",
       "        (conv): Conv2d(32, 96, kernel_size=(3, 3), stride=(1, 1), padding=(1, 1), bias=False)\n",
       "        (bn): BatchNorm2d(96, eps=0.001, momentum=0.1, affine=True, track_running_stats=True)\n",
       "      )\n",
       "    )\n",
       "    (branch4): Sequential(\n",
       "      (0): MaxPool2d(kernel_size=3, stride=1, padding=1, dilation=1, ceil_mode=True)\n",
       "      (1): BasicConv2d(\n",
       "        (conv): Conv2d(256, 64, kernel_size=(1, 1), stride=(1, 1), bias=False)\n",
       "        (bn): BatchNorm2d(64, eps=0.001, momentum=0.1, affine=True, track_running_stats=True)\n",
       "      )\n",
       "    )\n",
       "  )\n",
       "  (maxpool3): MaxPool2d(kernel_size=3, stride=2, padding=0, dilation=1, ceil_mode=True)\n",
       "  (inception4a): Inception(\n",
       "    (branch1): BasicConv2d(\n",
       "      (conv): Conv2d(480, 192, kernel_size=(1, 1), stride=(1, 1), bias=False)\n",
       "      (bn): BatchNorm2d(192, eps=0.001, momentum=0.1, affine=True, track_running_stats=True)\n",
       "    )\n",
       "    (branch2): Sequential(\n",
       "      (0): BasicConv2d(\n",
       "        (conv): Conv2d(480, 96, kernel_size=(1, 1), stride=(1, 1), bias=False)\n",
       "        (bn): BatchNorm2d(96, eps=0.001, momentum=0.1, affine=True, track_running_stats=True)\n",
       "      )\n",
       "      (1): BasicConv2d(\n",
       "        (conv): Conv2d(96, 208, kernel_size=(3, 3), stride=(1, 1), padding=(1, 1), bias=False)\n",
       "        (bn): BatchNorm2d(208, eps=0.001, momentum=0.1, affine=True, track_running_stats=True)\n",
       "      )\n",
       "    )\n",
       "    (branch3): Sequential(\n",
       "      (0): BasicConv2d(\n",
       "        (conv): Conv2d(480, 16, kernel_size=(1, 1), stride=(1, 1), bias=False)\n",
       "        (bn): BatchNorm2d(16, eps=0.001, momentum=0.1, affine=True, track_running_stats=True)\n",
       "      )\n",
       "      (1): BasicConv2d(\n",
       "        (conv): Conv2d(16, 48, kernel_size=(3, 3), stride=(1, 1), padding=(1, 1), bias=False)\n",
       "        (bn): BatchNorm2d(48, eps=0.001, momentum=0.1, affine=True, track_running_stats=True)\n",
       "      )\n",
       "    )\n",
       "    (branch4): Sequential(\n",
       "      (0): MaxPool2d(kernel_size=3, stride=1, padding=1, dilation=1, ceil_mode=True)\n",
       "      (1): BasicConv2d(\n",
       "        (conv): Conv2d(480, 64, kernel_size=(1, 1), stride=(1, 1), bias=False)\n",
       "        (bn): BatchNorm2d(64, eps=0.001, momentum=0.1, affine=True, track_running_stats=True)\n",
       "      )\n",
       "    )\n",
       "  )\n",
       "  (inception4b): Inception(\n",
       "    (branch1): BasicConv2d(\n",
       "      (conv): Conv2d(512, 160, kernel_size=(1, 1), stride=(1, 1), bias=False)\n",
       "      (bn): BatchNorm2d(160, eps=0.001, momentum=0.1, affine=True, track_running_stats=True)\n",
       "    )\n",
       "    (branch2): Sequential(\n",
       "      (0): BasicConv2d(\n",
       "        (conv): Conv2d(512, 112, kernel_size=(1, 1), stride=(1, 1), bias=False)\n",
       "        (bn): BatchNorm2d(112, eps=0.001, momentum=0.1, affine=True, track_running_stats=True)\n",
       "      )\n",
       "      (1): BasicConv2d(\n",
       "        (conv): Conv2d(112, 224, kernel_size=(3, 3), stride=(1, 1), padding=(1, 1), bias=False)\n",
       "        (bn): BatchNorm2d(224, eps=0.001, momentum=0.1, affine=True, track_running_stats=True)\n",
       "      )\n",
       "    )\n",
       "    (branch3): Sequential(\n",
       "      (0): BasicConv2d(\n",
       "        (conv): Conv2d(512, 24, kernel_size=(1, 1), stride=(1, 1), bias=False)\n",
       "        (bn): BatchNorm2d(24, eps=0.001, momentum=0.1, affine=True, track_running_stats=True)\n",
       "      )\n",
       "      (1): BasicConv2d(\n",
       "        (conv): Conv2d(24, 64, kernel_size=(3, 3), stride=(1, 1), padding=(1, 1), bias=False)\n",
       "        (bn): BatchNorm2d(64, eps=0.001, momentum=0.1, affine=True, track_running_stats=True)\n",
       "      )\n",
       "    )\n",
       "    (branch4): Sequential(\n",
       "      (0): MaxPool2d(kernel_size=3, stride=1, padding=1, dilation=1, ceil_mode=True)\n",
       "      (1): BasicConv2d(\n",
       "        (conv): Conv2d(512, 64, kernel_size=(1, 1), stride=(1, 1), bias=False)\n",
       "        (bn): BatchNorm2d(64, eps=0.001, momentum=0.1, affine=True, track_running_stats=True)\n",
       "      )\n",
       "    )\n",
       "  )\n",
       "  (inception4c): Inception(\n",
       "    (branch1): BasicConv2d(\n",
       "      (conv): Conv2d(512, 128, kernel_size=(1, 1), stride=(1, 1), bias=False)\n",
       "      (bn): BatchNorm2d(128, eps=0.001, momentum=0.1, affine=True, track_running_stats=True)\n",
       "    )\n",
       "    (branch2): Sequential(\n",
       "      (0): BasicConv2d(\n",
       "        (conv): Conv2d(512, 128, kernel_size=(1, 1), stride=(1, 1), bias=False)\n",
       "        (bn): BatchNorm2d(128, eps=0.001, momentum=0.1, affine=True, track_running_stats=True)\n",
       "      )\n",
       "      (1): BasicConv2d(\n",
       "        (conv): Conv2d(128, 256, kernel_size=(3, 3), stride=(1, 1), padding=(1, 1), bias=False)\n",
       "        (bn): BatchNorm2d(256, eps=0.001, momentum=0.1, affine=True, track_running_stats=True)\n",
       "      )\n",
       "    )\n",
       "    (branch3): Sequential(\n",
       "      (0): BasicConv2d(\n",
       "        (conv): Conv2d(512, 24, kernel_size=(1, 1), stride=(1, 1), bias=False)\n",
       "        (bn): BatchNorm2d(24, eps=0.001, momentum=0.1, affine=True, track_running_stats=True)\n",
       "      )\n",
       "      (1): BasicConv2d(\n",
       "        (conv): Conv2d(24, 64, kernel_size=(3, 3), stride=(1, 1), padding=(1, 1), bias=False)\n",
       "        (bn): BatchNorm2d(64, eps=0.001, momentum=0.1, affine=True, track_running_stats=True)\n",
       "      )\n",
       "    )\n",
       "    (branch4): Sequential(\n",
       "      (0): MaxPool2d(kernel_size=3, stride=1, padding=1, dilation=1, ceil_mode=True)\n",
       "      (1): BasicConv2d(\n",
       "        (conv): Conv2d(512, 64, kernel_size=(1, 1), stride=(1, 1), bias=False)\n",
       "        (bn): BatchNorm2d(64, eps=0.001, momentum=0.1, affine=True, track_running_stats=True)\n",
       "      )\n",
       "    )\n",
       "  )\n",
       "  (inception4d): Inception(\n",
       "    (branch1): BasicConv2d(\n",
       "      (conv): Conv2d(512, 112, kernel_size=(1, 1), stride=(1, 1), bias=False)\n",
       "      (bn): BatchNorm2d(112, eps=0.001, momentum=0.1, affine=True, track_running_stats=True)\n",
       "    )\n",
       "    (branch2): Sequential(\n",
       "      (0): BasicConv2d(\n",
       "        (conv): Conv2d(512, 144, kernel_size=(1, 1), stride=(1, 1), bias=False)\n",
       "        (bn): BatchNorm2d(144, eps=0.001, momentum=0.1, affine=True, track_running_stats=True)\n",
       "      )\n",
       "      (1): BasicConv2d(\n",
       "        (conv): Conv2d(144, 288, kernel_size=(3, 3), stride=(1, 1), padding=(1, 1), bias=False)\n",
       "        (bn): BatchNorm2d(288, eps=0.001, momentum=0.1, affine=True, track_running_stats=True)\n",
       "      )\n",
       "    )\n",
       "    (branch3): Sequential(\n",
       "      (0): BasicConv2d(\n",
       "        (conv): Conv2d(512, 32, kernel_size=(1, 1), stride=(1, 1), bias=False)\n",
       "        (bn): BatchNorm2d(32, eps=0.001, momentum=0.1, affine=True, track_running_stats=True)\n",
       "      )\n",
       "      (1): BasicConv2d(\n",
       "        (conv): Conv2d(32, 64, kernel_size=(3, 3), stride=(1, 1), padding=(1, 1), bias=False)\n",
       "        (bn): BatchNorm2d(64, eps=0.001, momentum=0.1, affine=True, track_running_stats=True)\n",
       "      )\n",
       "    )\n",
       "    (branch4): Sequential(\n",
       "      (0): MaxPool2d(kernel_size=3, stride=1, padding=1, dilation=1, ceil_mode=True)\n",
       "      (1): BasicConv2d(\n",
       "        (conv): Conv2d(512, 64, kernel_size=(1, 1), stride=(1, 1), bias=False)\n",
       "        (bn): BatchNorm2d(64, eps=0.001, momentum=0.1, affine=True, track_running_stats=True)\n",
       "      )\n",
       "    )\n",
       "  )\n",
       "  (inception4e): Inception(\n",
       "    (branch1): BasicConv2d(\n",
       "      (conv): Conv2d(528, 256, kernel_size=(1, 1), stride=(1, 1), bias=False)\n",
       "      (bn): BatchNorm2d(256, eps=0.001, momentum=0.1, affine=True, track_running_stats=True)\n",
       "    )\n",
       "    (branch2): Sequential(\n",
       "      (0): BasicConv2d(\n",
       "        (conv): Conv2d(528, 160, kernel_size=(1, 1), stride=(1, 1), bias=False)\n",
       "        (bn): BatchNorm2d(160, eps=0.001, momentum=0.1, affine=True, track_running_stats=True)\n",
       "      )\n",
       "      (1): BasicConv2d(\n",
       "        (conv): Conv2d(160, 320, kernel_size=(3, 3), stride=(1, 1), padding=(1, 1), bias=False)\n",
       "        (bn): BatchNorm2d(320, eps=0.001, momentum=0.1, affine=True, track_running_stats=True)\n",
       "      )\n",
       "    )\n",
       "    (branch3): Sequential(\n",
       "      (0): BasicConv2d(\n",
       "        (conv): Conv2d(528, 32, kernel_size=(1, 1), stride=(1, 1), bias=False)\n",
       "        (bn): BatchNorm2d(32, eps=0.001, momentum=0.1, affine=True, track_running_stats=True)\n",
       "      )\n",
       "      (1): BasicConv2d(\n",
       "        (conv): Conv2d(32, 128, kernel_size=(3, 3), stride=(1, 1), padding=(1, 1), bias=False)\n",
       "        (bn): BatchNorm2d(128, eps=0.001, momentum=0.1, affine=True, track_running_stats=True)\n",
       "      )\n",
       "    )\n",
       "    (branch4): Sequential(\n",
       "      (0): MaxPool2d(kernel_size=3, stride=1, padding=1, dilation=1, ceil_mode=True)\n",
       "      (1): BasicConv2d(\n",
       "        (conv): Conv2d(528, 128, kernel_size=(1, 1), stride=(1, 1), bias=False)\n",
       "        (bn): BatchNorm2d(128, eps=0.001, momentum=0.1, affine=True, track_running_stats=True)\n",
       "      )\n",
       "    )\n",
       "  )\n",
       "  (maxpool4): MaxPool2d(kernel_size=2, stride=2, padding=0, dilation=1, ceil_mode=True)\n",
       "  (inception5a): Inception(\n",
       "    (branch1): BasicConv2d(\n",
       "      (conv): Conv2d(832, 256, kernel_size=(1, 1), stride=(1, 1), bias=False)\n",
       "      (bn): BatchNorm2d(256, eps=0.001, momentum=0.1, affine=True, track_running_stats=True)\n",
       "    )\n",
       "    (branch2): Sequential(\n",
       "      (0): BasicConv2d(\n",
       "        (conv): Conv2d(832, 160, kernel_size=(1, 1), stride=(1, 1), bias=False)\n",
       "        (bn): BatchNorm2d(160, eps=0.001, momentum=0.1, affine=True, track_running_stats=True)\n",
       "      )\n",
       "      (1): BasicConv2d(\n",
       "        (conv): Conv2d(160, 320, kernel_size=(3, 3), stride=(1, 1), padding=(1, 1), bias=False)\n",
       "        (bn): BatchNorm2d(320, eps=0.001, momentum=0.1, affine=True, track_running_stats=True)\n",
       "      )\n",
       "    )\n",
       "    (branch3): Sequential(\n",
       "      (0): BasicConv2d(\n",
       "        (conv): Conv2d(832, 32, kernel_size=(1, 1), stride=(1, 1), bias=False)\n",
       "        (bn): BatchNorm2d(32, eps=0.001, momentum=0.1, affine=True, track_running_stats=True)\n",
       "      )\n",
       "      (1): BasicConv2d(\n",
       "        (conv): Conv2d(32, 128, kernel_size=(3, 3), stride=(1, 1), padding=(1, 1), bias=False)\n",
       "        (bn): BatchNorm2d(128, eps=0.001, momentum=0.1, affine=True, track_running_stats=True)\n",
       "      )\n",
       "    )\n",
       "    (branch4): Sequential(\n",
       "      (0): MaxPool2d(kernel_size=3, stride=1, padding=1, dilation=1, ceil_mode=True)\n",
       "      (1): BasicConv2d(\n",
       "        (conv): Conv2d(832, 128, kernel_size=(1, 1), stride=(1, 1), bias=False)\n",
       "        (bn): BatchNorm2d(128, eps=0.001, momentum=0.1, affine=True, track_running_stats=True)\n",
       "      )\n",
       "    )\n",
       "  )\n",
       "  (inception5b): Inception(\n",
       "    (branch1): BasicConv2d(\n",
       "      (conv): Conv2d(832, 384, kernel_size=(1, 1), stride=(1, 1), bias=False)\n",
       "      (bn): BatchNorm2d(384, eps=0.001, momentum=0.1, affine=True, track_running_stats=True)\n",
       "    )\n",
       "    (branch2): Sequential(\n",
       "      (0): BasicConv2d(\n",
       "        (conv): Conv2d(832, 192, kernel_size=(1, 1), stride=(1, 1), bias=False)\n",
       "        (bn): BatchNorm2d(192, eps=0.001, momentum=0.1, affine=True, track_running_stats=True)\n",
       "      )\n",
       "      (1): BasicConv2d(\n",
       "        (conv): Conv2d(192, 384, kernel_size=(3, 3), stride=(1, 1), padding=(1, 1), bias=False)\n",
       "        (bn): BatchNorm2d(384, eps=0.001, momentum=0.1, affine=True, track_running_stats=True)\n",
       "      )\n",
       "    )\n",
       "    (branch3): Sequential(\n",
       "      (0): BasicConv2d(\n",
       "        (conv): Conv2d(832, 48, kernel_size=(1, 1), stride=(1, 1), bias=False)\n",
       "        (bn): BatchNorm2d(48, eps=0.001, momentum=0.1, affine=True, track_running_stats=True)\n",
       "      )\n",
       "      (1): BasicConv2d(\n",
       "        (conv): Conv2d(48, 128, kernel_size=(3, 3), stride=(1, 1), padding=(1, 1), bias=False)\n",
       "        (bn): BatchNorm2d(128, eps=0.001, momentum=0.1, affine=True, track_running_stats=True)\n",
       "      )\n",
       "    )\n",
       "    (branch4): Sequential(\n",
       "      (0): MaxPool2d(kernel_size=3, stride=1, padding=1, dilation=1, ceil_mode=True)\n",
       "      (1): BasicConv2d(\n",
       "        (conv): Conv2d(832, 128, kernel_size=(1, 1), stride=(1, 1), bias=False)\n",
       "        (bn): BatchNorm2d(128, eps=0.001, momentum=0.1, affine=True, track_running_stats=True)\n",
       "      )\n",
       "    )\n",
       "  )\n",
       "  (aux1): None\n",
       "  (aux2): None\n",
       "  (avgpool): AdaptiveAvgPool2d(output_size=(1, 1))\n",
       "  (dropout): Dropout(p=0.2, inplace=False)\n",
       "  (fc): Linear(in_features=1024, out_features=1000, bias=True)\n",
       ")"
      ]
     },
     "execution_count": 7,
     "metadata": {},
     "output_type": "execute_result"
    }
   ],
   "source": [
    "print(\"CUDA Available: \",torch.cuda.is_available())\n",
    "device = torch.device(\"cuda\" if (USE_CUDA and torch.cuda.is_available()) else \"cpu\")\n",
    "# Initialize the network\n",
    "model.to(device)\n",
    "model.eval()"
   ]
  },
  {
   "cell_type": "markdown",
   "metadata": {},
   "source": [
    "## 2. Attack"
   ]
  },
  {
   "attachments": {},
   "cell_type": "markdown",
   "metadata": {},
   "source": [
    "### 2.1 Fast gradient sign method"
   ]
  },
  {
   "cell_type": "code",
   "execution_count": 37,
   "metadata": {},
   "outputs": [],
   "source": [
    "# if smaller subset desired\n",
    "indices = torch.randperm(len(dataset))[:100]\n",
    "data_loader = torch.utils.data.DataLoader(dataset,batch_size=100,#shuffle=True,\n",
    "    sampler=torch.utils.data.SubsetRandomSampler(indices))"
   ]
  },
  {
   "cell_type": "code",
   "execution_count": 9,
   "metadata": {},
   "outputs": [],
   "source": [
    "def fgsm_perturbate(image, epsilon, data_grad):\n",
    "    sign = data_grad.sign() # sign of gradient\n",
    "    perturbed_image = image + epsilon * sign\n",
    "    # Adding clipping to maintain [0,1] range\n",
    "    perturbed_image = torch.clamp(perturbed_image, 0, 1)\n",
    "    return perturbed_image"
   ]
  },
  {
   "cell_type": "markdown",
   "metadata": {},
   "source": []
  },
  {
   "cell_type": "code",
   "execution_count": 38,
   "metadata": {},
   "outputs": [
    {
     "name": "stdout",
     "output_type": "stream",
     "text": [
      "init_pred torch.Size([100, 1])\n"
     ]
    },
    {
     "ename": "ValueError",
     "evalue": "only one element tensors can be converted to Python scalars",
     "output_type": "error",
     "traceback": [
      "\u001b[0;31m---------------------------------------------------------------------------\u001b[0m",
      "\u001b[0;31mValueError\u001b[0m                                Traceback (most recent call last)",
      "Cell \u001b[0;32mIn [38], line 23\u001b[0m\n\u001b[1;32m     20\u001b[0m \u001b[39mprint\u001b[39m(\u001b[39m\"\u001b[39m\u001b[39minit_pred\u001b[39m\u001b[39m\"\u001b[39m, init_pred\u001b[39m.\u001b[39msize())\n\u001b[1;32m     22\u001b[0m \u001b[39m# skip images that were wrongly classified in the first place\u001b[39;00m\n\u001b[0;32m---> 23\u001b[0m \u001b[39mif\u001b[39;00m init_pred\u001b[39m.\u001b[39;49mitem() \u001b[39m!=\u001b[39m target\u001b[39m.\u001b[39mitem():\n\u001b[1;32m     24\u001b[0m     \u001b[39mprint\u001b[39m(init_pred\u001b[39m.\u001b[39mitem(), target\u001b[39m.\u001b[39mitem())\n\u001b[1;32m     25\u001b[0m     \u001b[39mcontinue\u001b[39;00m\n",
      "\u001b[0;31mValueError\u001b[0m: only one element tensors can be converted to Python scalars"
     ]
    }
   ],
   "source": [
    "# requires batch_size=1\n",
    "epsilon = 0.00\n",
    "\n",
    "correct, incorrect = 0,0\n",
    "# adapt model to have output 10 (image classes)\n",
    "# need to train again !!!\n",
    "model.fc = torch.nn.Linear(model.fc.in_features, 10) # !!! CAN WE DO THIS?\n",
    "    \n",
    "for img, target in data_loader:\n",
    "    # adapt input to be nx3xhxw\n",
    "    if img.size()[1] == 1:\n",
    "        img = img.expand((img.size()[0], 3, img.size()[2], img.size()[3]))\n",
    "    \n",
    "    img, target = img.to(device), target.to(device)\n",
    "    img.requires_grad = True\n",
    "    #print(img.size())\n",
    "    output = model(img) # probabilities\n",
    "    #print(\"output:\", output.size(), output)\n",
    "    init_pred = output.max(1, keepdim=True)[1] # get the index of the max log-probability\n",
    "    print(\"init_pred\", init_pred.size())\n",
    "\n",
    "    # skip images that were wrongly classified in the first place\n",
    "    if init_pred.item() != target.item():\n",
    "        print(init_pred.item(), target.item())\n",
    "        continue\n",
    "    else:\n",
    "        print(\"else\")\n",
    "        print(init_pred.item(), target.item())\n",
    "        # Calculate the loss\n",
    "        loss = torch.nn.functional.nll_loss(output, target)\n",
    "\n",
    "        # Zero all existing gradients\n",
    "        model.zero_grad()\n",
    "\n",
    "        # Calculate gradients of model in backward pass\n",
    "        loss.backward()\n",
    "\n",
    "        # produce FGSM Attack\n",
    "        grad_wrt_data = img.grad.data\n",
    "        perturbed_img = fgsm_perturbate(img, epsilon, grad_wrt_data)\n",
    "\n",
    "        # Re-classify the perturbed image\n",
    "        print(\"perturbed input\", perturbed_img.shape)\n",
    "        output = model(perturbed_img)\n",
    "        print(\"OUTPUT \", output)\n",
    "        pred = output.max(1, keepdim=True)[1]\n",
    "        print(\"PREDICTION 1\", pred)\n",
    "\n",
    "        if pred.item() == target.item():\n",
    "            correct += 1\n",
    "        else:\n",
    "            incorrect += 1\n",
    "length = correct+incorrect\n",
    "print(correct, \"correct\")\n",
    "print(incorrect, \"incorrect\")\n",
    "length = float(length)\n",
    "print(length)\n",
    "accuracy = correct / length\n",
    "print(f\"accuracy: {accuracy}, \\t correct: {correct} ({correct/length}) \\t incorrect: {incorrect} ({incorrect/length})\")"
   ]
  },
  {
   "attachments": {},
   "cell_type": "markdown",
   "metadata": {},
   "source": [
    "### 2.2 UNIVERSAL PERTURBATIONS"
   ]
  },
  {
   "cell_type": "code",
   "execution_count": 76,
   "metadata": {},
   "outputs": [],
   "source": [
    "# if smaller subset desired\n",
    "indices = torch.randperm(len(dataset))[:100]\n",
    "data_loader = torch.utils.data.DataLoader(dataset,batch_size=50,#shuffle=True,\n",
    "    sampler=torch.utils.data.SubsetRandomSampler(indices))"
   ]
  },
  {
   "cell_type": "code",
   "execution_count": 20,
   "metadata": {},
   "outputs": [],
   "source": [
    "%load_ext autoreload\n",
    "%autoreload 2\n",
    "from src.attacks.attacks import UniversalPerturbation"
   ]
  },
  {
   "cell_type": "code",
   "execution_count": 86,
   "metadata": {},
   "outputs": [
    {
     "name": "stdout",
     "output_type": "stream",
     "text": [
      "inputs torch.Size([50, 3, 28, 28])\n",
      "predictions:  torch.Size([50]) \n",
      "\n",
      "targets torch.Size([50]) \n",
      "\n",
      "fool_rate 0.88\n",
      "0\n",
      "predictions:  torch.Size([50]) \n",
      "\n",
      "targets torch.Size([50]) \n",
      "\n",
      "fool_rate 0.96\n"
     ]
    }
   ],
   "source": [
    "\n",
    "model.fc = torch.nn.Linear(model.fc.in_features, 10) # !!! CAN WE DO THIS?\n",
    "    \n",
    "for inputs, targets in data_loader:\n",
    "    #print(inputs.size(), targets.size())\n",
    "    if inputs.size()[-3] == 1:\n",
    "        inputs = inputs.expand((inputs.size()[0], 3, inputs.size()[2], inputs.size()[3]))\n",
    "    #print(inputs.size(), targets.size())\n",
    "inputs, targets = inputs.to(device), targets.to(device)\n",
    "up = UniversalPerturbation(model, torch.nn.functional.nll_loss).compute_perturbation(inputs, targets)"
   ]
  },
  {
   "cell_type": "code",
   "execution_count": 88,
   "metadata": {},
   "outputs": [
    {
     "data": {
      "text/plain": [
       "torch.Size([1, 3, 28, 28])"
      ]
     },
     "execution_count": 88,
     "metadata": {},
     "output_type": "execute_result"
    }
   ],
   "source": [
    "up.size()"
   ]
  },
  {
   "cell_type": "code",
   "execution_count": null,
   "metadata": {},
   "outputs": [],
   "source": []
  },
  {
   "attachments": {},
   "cell_type": "markdown",
   "metadata": {},
   "source": [
    "## 3. Explanation"
   ]
  },
  {
   "cell_type": "markdown",
   "metadata": {},
   "source": []
  },
  {
   "cell_type": "code",
   "execution_count": 183,
   "metadata": {},
   "outputs": [],
   "source": [
    "from src.explainability.GradCam import GradCam\n",
    "from src.utils.get_mnist_classes import get_classes\n",
    "from torchvision import transforms\n",
    "import matplotlib.pyplot as plt\n",
    "import PIL.Image\n",
    "import numpy as np"
   ]
  },
  {
   "cell_type": "code",
   "execution_count": 106,
   "metadata": {},
   "outputs": [
    {
     "name": "stdout",
     "output_type": "stream",
     "text": [
      "inception5b.branch3.1.conv Conv2d(48, 128, kernel_size=(3, 3), stride=(1, 1), padding=(1, 1), bias=False)\n",
      "inception5b.branch3.1.bn BatchNorm2d(128, eps=0.001, momentum=0.1, affine=True, track_running_stats=True)\n",
      "inception5b.branch4 Sequential(\n",
      "  (0): MaxPool2d(kernel_size=3, stride=1, padding=1, dilation=1, ceil_mode=True)\n",
      "  (1): BasicConv2d(\n",
      "    (conv): Conv2d(832, 128, kernel_size=(1, 1), stride=(1, 1), bias=False)\n",
      "    (bn): BatchNorm2d(128, eps=0.001, momentum=0.1, affine=True, track_running_stats=True)\n",
      "  )\n",
      ")\n",
      "inception5b.branch4.0 MaxPool2d(kernel_size=3, stride=1, padding=1, dilation=1, ceil_mode=True)\n",
      "inception5b.branch4.1 BasicConv2d(\n",
      "  (conv): Conv2d(832, 128, kernel_size=(1, 1), stride=(1, 1), bias=False)\n",
      "  (bn): BatchNorm2d(128, eps=0.001, momentum=0.1, affine=True, track_running_stats=True)\n",
      ")\n",
      "inception5b.branch4.1.conv Conv2d(832, 128, kernel_size=(1, 1), stride=(1, 1), bias=False)\n",
      "inception5b.branch4.1.bn BatchNorm2d(128, eps=0.001, momentum=0.1, affine=True, track_running_stats=True)\n",
      "avgpool AdaptiveAvgPool2d(output_size=(1, 1))\n",
      "dropout Dropout(p=0.2, inplace=False)\n",
      "fc Linear(in_features=1024, out_features=10, bias=True)\n"
     ]
    },
    {
     "ename": "AttributeError",
     "evalue": "'GoogLeNet' object has no attribute 'conv2d'",
     "output_type": "error",
     "traceback": [
      "\u001b[0;31m---------------------------------------------------------------------------\u001b[0m",
      "\u001b[0;31mAttributeError\u001b[0m                            Traceback (most recent call last)",
      "Cell \u001b[0;32mIn [106], line 5\u001b[0m\n\u001b[1;32m      1\u001b[0m \u001b[39mfor\u001b[39;00m name, module \u001b[39min\u001b[39;00m \u001b[39mlist\u001b[39m(model\u001b[39m.\u001b[39mnamed_modules())[\u001b[39m-\u001b[39m\u001b[39m10\u001b[39m:]:\n\u001b[1;32m      2\u001b[0m     \u001b[39m#if isinstance(module, torch.nn.Conv2d):\u001b[39;00m\n\u001b[1;32m      3\u001b[0m     \u001b[39mprint\u001b[39m(name, module)\n\u001b[0;32m----> 5\u001b[0m model\u001b[39m.\u001b[39;49mconv2d\n",
      "File \u001b[0;32m~/miniconda3/envs/nndl/lib/python3.10/site-packages/torch/nn/modules/module.py:1265\u001b[0m, in \u001b[0;36mModule.__getattr__\u001b[0;34m(self, name)\u001b[0m\n\u001b[1;32m   1263\u001b[0m     \u001b[39mif\u001b[39;00m name \u001b[39min\u001b[39;00m modules:\n\u001b[1;32m   1264\u001b[0m         \u001b[39mreturn\u001b[39;00m modules[name]\n\u001b[0;32m-> 1265\u001b[0m \u001b[39mraise\u001b[39;00m \u001b[39mAttributeError\u001b[39;00m(\u001b[39m\"\u001b[39m\u001b[39m'\u001b[39m\u001b[39m{}\u001b[39;00m\u001b[39m'\u001b[39m\u001b[39m object has no attribute \u001b[39m\u001b[39m'\u001b[39m\u001b[39m{}\u001b[39;00m\u001b[39m'\u001b[39m\u001b[39m\"\u001b[39m\u001b[39m.\u001b[39mformat(\n\u001b[1;32m   1266\u001b[0m     \u001b[39mtype\u001b[39m(\u001b[39mself\u001b[39m)\u001b[39m.\u001b[39m\u001b[39m__name__\u001b[39m, name))\n",
      "\u001b[0;31mAttributeError\u001b[0m: 'GoogLeNet' object has no attribute 'conv2d'"
     ]
    }
   ],
   "source": [
    "for name, module in list(model.named_modules())[-10:]:\n",
    "    #if isinstance(module, torch.nn.Conv2d):\n",
    "    print(name, module)\n",
    "\n",
    "model.conv2d"
   ]
  },
  {
   "cell_type": "code",
   "execution_count": 115,
   "metadata": {},
   "outputs": [
    {
     "name": "stdout",
     "output_type": "stream",
     "text": [
      "Conv2d(832, 128, kernel_size=(1, 1), stride=(1, 1), bias=False)\n"
     ]
    }
   ],
   "source": [
    "print(list(model.modules())[-5])"
   ]
  },
  {
   "cell_type": "code",
   "execution_count": 175,
   "metadata": {},
   "outputs": [],
   "source": [
    "indices = torch.randperm(len(dataset))[:100]\n",
    "data_loader = torch.utils.data.DataLoader(dataset,batch_size=1,#shuffle=True,\n",
    "    sampler=torch.utils.data.SubsetRandomSampler(indices))"
   ]
  },
  {
   "cell_type": "code",
   "execution_count": 137,
   "metadata": {},
   "outputs": [
    {
     "name": "stdout",
     "output_type": "stream",
     "text": [
      "{0: 'zero', 1: 'one', 2: 'two', 3: 'three', 4: 'four', 5: 'five', 6: 'six', 7: 'seven', 8: 'eight', 9: 'nine'}\n"
     ]
    }
   ],
   "source": [
    "target_layer = list(model.modules())[-5]\n",
    "cam = GradCam(model, target_layer, 10, multi_label = False)\n",
    "classes = get_classes()\n",
    "print(classes)\n"
   ]
  },
  {
   "cell_type": "code",
   "execution_count": 144,
   "metadata": {},
   "outputs": [],
   "source": [
    "image_dispalyer = ImageDisplayerGradCam(model, \n",
    "    cam, \n",
    "    classes,\n",
    "    reshape = transforms.Resize((256,256)), \n",
    "    multi_label = False, \n",
    "    image_dir = 'src/data/MNIST/raw/',\n",
    "    pdf = False)"
   ]
  },
  {
   "cell_type": "code",
   "execution_count": 216,
   "metadata": {},
   "outputs": [
    {
     "name": "stdout",
     "output_type": "stream",
     "text": [
      "1\n",
      "torch.Size([1, 3, 28, 28]) torch.Size([28, 28, 3, 1])\n",
      "tensor([6])\n",
      "True class: six 6\n",
      "Predictions: three 3\n",
      "Displaying predictions\n",
      "Focus class: 3\n",
      "_display_target_class torch.Size([1, 3, 28, 28])\n",
      "torch.Size([3, 28, 28])\n"
     ]
    },
    {
     "data": {
      "image/png": "[encoded data removed]",
      "text/plain": [
       "<Figure size 640x480 with 2 Axes>"
      ]
     },
     "metadata": {},
     "output_type": "display_data"
    },
    {
     "name": "stdout",
     "output_type": "stream",
     "text": [
      "[[0.00391789 0.07578273 0.         0.00608248 0.04770609 0.02755894\n",
      "  0.         0.         0.         0.00812866 0.         0.0146515\n",
      "  0.         0.05770095 0.00465251 0.00871043 0.         0.02997743\n",
      "  0.         0.0461446  0.         0.05133308 0.00545314 0.00081753\n",
      "  0.04171945 0.         0.         0.0010814 ]\n",
      " [0.00391789 0.07578273 0.         0.00608248 0.04770609 0.02755894\n",
      "  0.         0.         0.         0.00812866 0.         0.0146515\n",
      "  0.         0.05770095 0.00465251 0.00871043 0.         0.02997743\n",
      "  0.         0.0461446  0.         0.05133308 0.00545314 0.00081753\n",
      "  0.04171945 0.         0.         0.0010814 ]\n",
      " [0.00391789 0.07578273 0.         0.00608248 0.04770609 0.02755894\n",
      "  0.         0.         0.         0.00812866 0.         0.0146515\n",
      "  0.         0.05770095 0.00465251 0.00871043 0.         0.02997743\n",
      "  0.         0.0461446  0.         0.05133308 0.00545314 0.00081753\n",
      "  0.04171945 0.         0.         0.0010814 ]\n",
      " [0.00391789 0.07578273 0.         0.00608248 0.04770609 0.02755894\n",
      "  0.         0.         0.         0.00812866 0.         0.0146515\n",
      "  0.         0.05770095 0.00465251 0.00871043 0.         0.02997743\n",
      "  0.         0.0461446  0.         0.05133308 0.00545314 0.00081753\n",
      "  0.04171945 0.         0.         0.0010814 ]\n",
      " [0.00391789 0.07578273 0.         0.00608248 0.04770609 0.02755894\n",
      "  0.         0.         0.         0.00812866 0.         0.0146515\n",
      "  0.         0.05770095 0.00465251 0.00871043 0.         0.02997743\n",
      "  0.         0.0461446  0.         0.05133308 0.00545314 0.00081753\n",
      "  0.04171945 0.         0.         0.0010814 ]\n",
      " [0.00391789 0.07578273 0.         0.00608248 0.04770609 0.02755894\n",
      "  0.         0.         0.         0.00812866 0.         0.0146515\n",
      "  0.         0.05770095 0.00465251 0.00871043 0.         0.02997743\n",
      "  0.         0.0461446  0.         0.05133308 0.00545314 0.00081753\n",
      "  0.04171945 0.         0.         0.0010814 ]\n",
      " [0.00391789 0.07578273 0.         0.00608248 0.04770609 0.02755894\n",
      "  0.         0.         0.         0.00812866 0.         0.0146515\n",
      "  0.         0.05770095 0.00465251 0.00871043 0.         0.02997743\n",
      "  0.         0.0461446  0.         0.05133308 0.00545314 0.00081753\n",
      "  0.04171945 0.         0.         0.0010814 ]\n",
      " [0.00391789 0.07578273 0.         0.00608248 0.04770609 0.02755894\n",
      "  0.         0.         0.         0.00812866 0.         0.0146515\n",
      "  0.         0.05770095 0.00465251 0.00871043 0.         0.02997743\n",
      "  0.         0.0461446  0.         0.05133308 0.00545314 0.00081753\n",
      "  0.04171945 0.         0.         0.0010814 ]\n",
      " [0.00391789 0.07578273 0.         0.00608248 0.04770609 0.02755894\n",
      "  0.         0.         0.         0.00812866 0.         0.0146515\n",
      "  0.         0.05770095 0.00465251 0.00871043 0.         0.02997743\n",
      "  0.         0.0461446  0.         0.05133308 0.00545314 0.00081752\n",
      "  0.04171945 0.         0.         0.0010814 ]\n",
      " [0.00391789 0.07578273 0.         0.00608248 0.04770609 0.02755894\n",
      "  0.         0.         0.         0.00812866 0.         0.0146515\n",
      "  0.         0.05770095 0.00465251 0.00871043 0.         0.02997743\n",
      "  0.         0.0461446  0.         0.05133308 0.00545314 0.00081752\n",
      "  0.04171945 0.         0.         0.0010814 ]\n",
      " [0.00391789 0.07578273 0.         0.00608248 0.04770609 0.02755894\n",
      "  0.         0.         0.         0.00812866 0.         0.0146515\n",
      "  0.         0.05770095 0.00465251 0.00871043 0.         0.02997743\n",
      "  0.         0.0461446  0.         0.05133308 0.00545314 0.00081753\n",
      "  0.04171945 0.         0.         0.0010814 ]\n",
      " [0.00391789 0.07578273 0.         0.00608248 0.04770608 0.02755894\n",
      "  0.         0.         0.         0.00812866 0.         0.0146515\n",
      "  0.         0.05770095 0.00465251 0.00871043 0.         0.02997743\n",
      "  0.         0.0461446  0.         0.05133308 0.00545314 0.00081753\n",
      "  0.04171945 0.         0.         0.0010814 ]\n",
      " [0.00391789 0.07578273 0.         0.00608248 0.04770609 0.02755894\n",
      "  0.         0.         0.         0.00812866 0.         0.0146515\n",
      "  0.         0.05770095 0.00465251 0.00871043 0.         0.02997743\n",
      "  0.         0.0461446  0.         0.05133308 0.00545314 0.00081753\n",
      "  0.04171945 0.         0.         0.0010814 ]\n",
      " [0.00391789 0.07578273 0.         0.00608248 0.04770609 0.02755894\n",
      "  0.         0.         0.         0.00812866 0.         0.0146515\n",
      "  0.         0.05770095 0.00465251 0.00871043 0.         0.02997743\n",
      "  0.         0.0461446  0.         0.05133308 0.00545314 0.00081753\n",
      "  0.04171945 0.         0.         0.0010814 ]\n",
      " [0.00391789 0.07578273 0.         0.00608248 0.04770609 0.02755894\n",
      "  0.         0.         0.         0.00812866 0.         0.0146515\n",
      "  0.         0.05770095 0.00465251 0.00871043 0.         0.02997743\n",
      "  0.         0.0461446  0.         0.05133308 0.00545314 0.00081753\n",
      "  0.04171945 0.         0.         0.0010814 ]\n",
      " [0.00391789 0.07578274 0.         0.00608248 0.04770609 0.02755894\n",
      "  0.         0.         0.         0.00812866 0.         0.0146515\n",
      "  0.         0.05770095 0.00465251 0.00871043 0.         0.02997743\n",
      "  0.         0.0461446  0.         0.05133308 0.00545314 0.00081753\n",
      "  0.04171945 0.         0.         0.0010814 ]\n",
      " [0.00391789 0.07578273 0.         0.00608248 0.04770608 0.02755894\n",
      "  0.         0.         0.         0.00812866 0.         0.0146515\n",
      "  0.         0.05770095 0.00465251 0.00871043 0.         0.02997743\n",
      "  0.         0.0461446  0.         0.05133308 0.00545314 0.00081752\n",
      "  0.04171945 0.         0.         0.0010814 ]\n",
      " [0.00391789 0.07578273 0.         0.00608248 0.04770609 0.02755894\n",
      "  0.         0.         0.         0.00812866 0.         0.0146515\n",
      "  0.         0.05770095 0.00465251 0.00871043 0.         0.02997743\n",
      "  0.         0.0461446  0.         0.05133308 0.00545314 0.00081753\n",
      "  0.04171945 0.         0.         0.0010814 ]\n",
      " [0.00391789 0.07578273 0.         0.00608248 0.04770609 0.02755894\n",
      "  0.         0.         0.         0.00812866 0.         0.0146515\n",
      "  0.         0.05770095 0.00465251 0.00871043 0.         0.02997743\n",
      "  0.         0.0461446  0.         0.05133308 0.00545314 0.00081753\n",
      "  0.04171945 0.         0.         0.0010814 ]\n",
      " [0.00391789 0.07578273 0.         0.00608248 0.04770609 0.02755894\n",
      "  0.         0.         0.         0.00812866 0.         0.0146515\n",
      "  0.         0.05770095 0.00465251 0.00871043 0.         0.02997743\n",
      "  0.         0.0461446  0.         0.05133308 0.00545314 0.00081753\n",
      "  0.04171945 0.         0.         0.0010814 ]\n",
      " [0.00391789 0.07578273 0.         0.00608248 0.04770608 0.02755894\n",
      "  0.         0.         0.         0.00812866 0.         0.0146515\n",
      "  0.         0.05770095 0.00465251 0.00871043 0.         0.02997743\n",
      "  0.         0.0461446  0.         0.05133308 0.00545314 0.00081753\n",
      "  0.04171945 0.         0.         0.0010814 ]\n",
      " [0.00391789 0.07578273 0.         0.00608248 0.04770609 0.02755894\n",
      "  0.         0.         0.         0.00812866 0.         0.0146515\n",
      "  0.         0.05770095 0.00465251 0.00871043 0.         0.02997743\n",
      "  0.         0.0461446  0.         0.05133308 0.00545314 0.00081753\n",
      "  0.04171945 0.         0.         0.0010814 ]\n",
      " [0.00391789 0.07578273 0.         0.00608248 0.04770608 0.02755894\n",
      "  0.         0.         0.         0.00812866 0.         0.0146515\n",
      "  0.         0.05770095 0.00465251 0.00871043 0.         0.02997743\n",
      "  0.         0.0461446  0.         0.05133308 0.00545313 0.00081752\n",
      "  0.04171945 0.         0.         0.0010814 ]\n",
      " [0.00391789 0.07578273 0.         0.00608248 0.04770608 0.02755894\n",
      "  0.         0.         0.         0.00812866 0.         0.0146515\n",
      "  0.         0.05770095 0.00465251 0.00871043 0.         0.02997743\n",
      "  0.         0.0461446  0.         0.05133308 0.00545314 0.00081752\n",
      "  0.04171945 0.         0.         0.0010814 ]\n",
      " [0.00391789 0.07578273 0.         0.00608248 0.04770609 0.02755894\n",
      "  0.         0.         0.         0.00812866 0.         0.0146515\n",
      "  0.         0.05770095 0.00465251 0.00871043 0.         0.02997743\n",
      "  0.         0.0461446  0.         0.05133308 0.00545314 0.00081753\n",
      "  0.04171945 0.         0.         0.0010814 ]\n",
      " [0.00391789 0.07578273 0.         0.00608248 0.04770609 0.02755894\n",
      "  0.         0.         0.         0.00812866 0.         0.0146515\n",
      "  0.         0.05770095 0.00465251 0.00871043 0.         0.02997743\n",
      "  0.         0.0461446  0.         0.05133308 0.00545314 0.00081753\n",
      "  0.04171945 0.         0.         0.0010814 ]\n",
      " [0.00391789 0.07578273 0.         0.00608248 0.04770609 0.02755894\n",
      "  0.         0.         0.         0.00812866 0.         0.0146515\n",
      "  0.         0.05770095 0.00465251 0.00871043 0.         0.02997743\n",
      "  0.         0.0461446  0.         0.05133308 0.00545314 0.00081753\n",
      "  0.04171945 0.         0.         0.0010814 ]\n",
      " [0.00391789 0.07578273 0.         0.00608248 0.04770609 0.02755894\n",
      "  0.         0.         0.         0.00812866 0.         0.0146515\n",
      "  0.         0.05770095 0.00465251 0.00871043 0.         0.02997743\n",
      "  0.         0.0461446  0.         0.05133308 0.00545314 0.00081753\n",
      "  0.04171945 0.         0.         0.0010814 ]]\n"
     ]
    }
   ],
   "source": [
    "#fig, ax = plt.subplots(1, 1,)\n",
    "for img, label in data_loader:\n",
    "    if img.size()[1] == 1:\n",
    "        img = img.expand((img.size()[0], 3, img.size()[2], img.size()[3]))\n",
    "    \n",
    "    print(len(img))\n",
    "    print(img.size(), img.T.size())\n",
    "    print(label)\n",
    "    #print(img)\n",
    "    img_255 = (img[0,0].numpy()*255).astype(np.uint8) # convert from 0-1 floats to 0-255 ints\n",
    "    #print(img_255)\n",
    "    point = {\"image\" : img, \"label\": label, \"filename\": None}\n",
    "    ###image = (PIL.Image.fromarray(img_255))\n",
    "    ###ax.imshow(image)\n",
    "    hm = image_dispalyer.display_images(point, display_labels_or_predictions = False, return_heatmap=True)\n",
    "    print(hm)\n",
    "    #image_dispalyer.display_images(point, display_labels_or_predictions = True)\n",
    "    break"
   ]
  },
  {
   "cell_type": "code",
   "execution_count": null,
   "metadata": {},
   "outputs": [],
   "source": []
  }
 ],
 "metadata": {
  "kernelspec": {
   "display_name": "nndl",
   "language": "python",
   "name": "python3"
  },
  "language_info": {
   "codemirror_mode": {
    "name": "ipython",
    "version": 3
   },
   "file_extension": ".py",
   "mimetype": "text/x-python",
   "name": "python",
   "nbconvert_exporter": "python",
   "pygments_lexer": "ipython3",
   "version": "3.10.8"
  },
  "vscode": {
   "interpreter": {
    "hash": "22dd540a5afc0f964534e934e7ed0a36a75572b0f301a35d73a17255257f0e0c"
   }
  }
 },
 "nbformat": 4,
 "nbformat_minor": 4
}
