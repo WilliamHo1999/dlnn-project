{
 "cells": [
  {
   "cell_type": "markdown",
   "metadata": {},
   "source": [
    "# Compute final scores"
   ]
  },
  {
   "cell_type": "code",
   "execution_count": 1,
   "metadata": {},
   "outputs": [],
   "source": [
    "%load_ext autoreload\n",
    "%autoreload 2"
   ]
  },
  {
   "cell_type": "code",
   "execution_count": 25,
   "metadata": {},
   "outputs": [],
   "source": [
    "import os\n",
    "import json\n",
    "import PIL.Image\n",
    "import random\n",
    "import numpy as np\n",
    "import matplotlib.pyplot as plt\n",
    "from math import floor, ceil\n",
    "\n",
    "import torch\n",
    "import torch.nn as nn\n",
    "from torch.utils.data import DataLoader\n",
    "import torchvision\n",
    "\n",
    "from src.data.PascalVOC import dataset_voc, prepare_dataloaders_pascal_voc\n",
    "from src.attacks.attacks import FastGradientSign, ProjectedGradientDescent, UniversalAttack\n",
    "from src.training.Trainer import Trainer\n",
    "from src.optim.scheduler import CustomScheduler\n",
    "\n",
    "from src.explainability.distances import _get_bounding_maps_vec_NEW, hellinger_distance_vec_NEW\n",
    "from src.explainability.distances import compute_weighted_iou_mult_class_vec_NEW, get_weighted_iou_mult_class_vec_NEW\n",
    "from src.explainability.distances import get_bounding_boxes_vec, resize_bounding_boxes, _expand_with_zeros"
   ]
  },
  {
   "cell_type": "code",
   "execution_count": 3,
   "metadata": {},
   "outputs": [],
   "source": [
    "def seed_everything(seed_value=4995):\n",
    "    os.environ['PYTHONHASHSEED'] = str(seed_value)\n",
    "    random.seed(seed_value)\n",
    "    np.random.seed(seed_value)\n",
    "    torch.manual_seed(seed_value)\n",
    "    torch.cuda.manual_seed_all(seed_value)\n",
    "\n",
    "    torch.backends.cudnn.deterministic = True\n",
    "    torch.backends.cudnn.benchmark = False\n",
    "\n",
    "seed_everything()"
   ]
  },
  {
   "cell_type": "code",
   "execution_count": 3,
   "metadata": {},
   "outputs": [],
   "source": [
    "def load_model(num_classes = 20, model_path = None, to_cuda = True):\n",
    "    if not model_path:\n",
    "        model = torchvision.models.resnet18(pretrained = True)"
   ]
  },
  {
   "cell_type": "markdown",
   "metadata": {},
   "source": [
    "#### get models"
   ]
  },
  {
   "cell_type": "code",
   "execution_count": null,
   "metadata": {},
   "outputs": [],
   "source": [
    "pascal_net_vulnerable_path = \n",
    "pascal_net_pgd_robust_path = \n",
    "mnist_net_vulnerable_path = \n",
    "mnist_net_pgd_robust_path = "
   ]
  },
  {
   "cell_type": "code",
   "execution_count": null,
   "metadata": {},
   "outputs": [],
   "source": [
    "# define networks\n",
    "pascal_net_vulnerable = fine tuned\n",
    "pascal_net_pgd_robust = msls # copy load model from train pascal\n",
    "mnist_net_vulnerable = simple_cnn\n",
    "mnist_net_pgd_robust = simple_cnn_adv # copy load_model from heatmaps"
   ]
  },
  {
   "cell_type": "code",
   "execution_count": null,
   "metadata": {},
   "outputs": [],
   "source": []
  },
  {
   "cell_type": "markdown",
   "metadata": {},
   "source": [
    "### get heatmaps"
   ]
  },
  {
   "cell_type": "code",
   "execution_count": 4,
   "metadata": {},
   "outputs": [],
   "source": [
    "# retrieve computed heatmaps\n",
    "\n",
    "# folder = /heatmaps\n",
    "# take function from compute heatmaps\n",
    "\n",
    "# pascal: save pascal heatmap.py\n",
    "\n",
    "heatmaps = {}\n",
    "heatmaps[\"pascal_vulnerable_normal\"] = {}\n",
    "heatmaps[\"pascal_vulnerable_pgd\"] = {}\n",
    "heatmaps[\"pascal_vulnerable_up\"] = {}\n",
    "heatmaps[\"pascal_pgd_robust_normal\"] = {}\n",
    "heatmaps[\"pascal_pgd_robust_pgd\"] = {}\n",
    "heatmaps[\"pascal_pgd_robust_up\"] = {}\n",
    "#heatmaps[\"pascal_up_robust_normal\"] = {}\n",
    "#heatmaps[\"pascal_up_robust_pgd\"] = {}\n",
    "#heatmaps[\"pascal_up_robust_up\"] = {}\n",
    "heatmaps[\"mnist_vulnerable_normal\"] = {}\n",
    "heatmaps[\"mnist_vulnerable_pgd\"] = {}\n",
    "heatmaps[\"mnist_vulnerable_up\"] = {}\n",
    "heatmaps[\"mnist_pgd_robust_normal\"] = {}\n",
    "heatmaps[\"mnist_pgd_robust_pgd\"] = {}\n",
    "heatmaps[\"mnist_pgd_robust_up\"] = {}\n",
    "#heatmaps[\"mnist_up_robust_normal\"] = \n",
    "#heatmaps[\"mnist_up_robust_pgd\"] = \n",
    "#heatmaps[\"mnist_up_robust_up\"] = "
   ]
  },
  {
   "cell_type": "markdown",
   "metadata": {},
   "source": [
    "## MNIST"
   ]
  },
  {
   "cell_type": "code",
   "execution_count": null,
   "metadata": {},
   "outputs": [],
   "source": [
    "heatmaps_mnist_vulnerable_normal_path = os.path.join(os.path.abspath(\"\"),\"heatmaps/mnist_normal_order_pred_true.npy\")\n",
    "heatmaps_mnist_vulnerable_pgd_perturbed_path =  os.path.join(os.path.abspath(\"\"),\"heatmaps/mnist_normal_network_perturbed_images_order_pred_true.npy\")\n",
    "heatmaps_mnist_pgd_robust_normal_path = os.path.join(os.path.abspath(\"\"),\"heatmaps/mnist_adv_trained_normal_images_order_pred_true.npy\")\n",
    "heatmaps_mnist_pgd_robust_pgd_perturbed_path = os.path.join(os.path.abspath(\"\"),\"heatmaps/mnist_adv_trained_perturbed_images_order_pred_true.npy\")\n"
   ]
  },
  {
   "cell_type": "code",
   "execution_count": 9,
   "metadata": {},
   "outputs": [],
   "source": [
    "heatmaps_mnist_vulnerable_normal_path = os.path.join(\"/home/wh2529/dlnn-project/\",\"heatmaps/mnist_normal_order_pred_true.npy\")\n",
    "heatmaps_mnist_vulnerable_pgd_perturbed_path =  os.path.join(\"/home/wh2529/dlnn-project/\",\"heatmaps/mnist_normal_network_perturbed_images_order_pred_true.npy\")\n",
    "heatmaps_mnist_pgd_robust_normal_path = os.path.join(\"/home/wh2529/dlnn-project/\",\"heatmaps/mnist_adv_trained_normal_images_order_pred_true.npy\")\n",
    "heatmaps_mnist_pgd_robust_pgd_perturbed_path = os.path.join(\"/home/wh2529/dlnn-project/\",\"heatmaps/mnist_adv_trained_perturbed_images_order_pred_true.npy\")\n"
   ]
  },
  {
   "cell_type": "code",
   "execution_count": 10,
   "metadata": {},
   "outputs": [],
   "source": [
    "with open(heatmaps_mnist_vulnerable_normal_path, 'rb') as f:\n",
    "    heatmaps[\"mnist_vulnerable_normal\"][\"pred\"] = torch.from_numpy(np.load(f))\n",
    "    heatmaps[\"mnist_vulnerable_normal\"][\"gt\"] = torch.from_numpy(np.load(f))\n",
    "with open(heatmaps_mnist_vulnerable_pgd_perturbed_path, 'rb') as f:\n",
    "    heatmaps[\"mnist_vulnerable_pgd\"][\"pred\"] = torch.from_numpy(np.load(f))\n",
    "    heatmaps[\"mnist_vulnerable_pgd\"][\"gt\"] = torch.from_numpy(np.load(f))\n",
    "with open(heatmaps_mnist_pgd_robust_normal_path, 'rb') as f:\n",
    "    heatmaps[\"mnist_pgd_robust_normal\"][\"pred\"] = torch.from_numpy(np.load(f))\n",
    "    heatmaps[\"mnist_pgd_robust_normal\"][\"gt\"] = torch.from_numpy(np.load(f))\n",
    "with open(heatmaps_mnist_pgd_robust_pgd_perturbed_path, 'rb') as f:\n",
    "    heatmaps[\"mnist_pgd_robust_pgd\"][\"pred\"] = torch.from_numpy(np.load(f))\n",
    "    heatmaps[\"mnist_pgd_robust_pgd\"][\"gt\"] = torch.from_numpy(np.load(f))"
   ]
  },
  {
   "cell_type": "code",
   "execution_count": 11,
   "metadata": {},
   "outputs": [
    {
     "name": "stdout",
     "output_type": "stream",
     "text": [
      "mnist_vulnerable_normal pred shape: torch.Size([10000, 28, 28])\n",
      "mnist_vulnerable_normal gt shape: torch.Size([10000, 28, 28])\n",
      "mnist_vulnerable_pgd pred shape: torch.Size([10000, 28, 28])\n",
      "mnist_vulnerable_pgd gt shape: torch.Size([10000, 28, 28])\n",
      "mnist_pgd_robust_normal pred shape: torch.Size([10000, 28, 28])\n",
      "mnist_pgd_robust_normal gt shape: torch.Size([10000, 28, 28])\n",
      "mnist_pgd_robust_pgd pred shape: torch.Size([10000, 28, 28])\n",
      "mnist_pgd_robust_pgd gt shape: torch.Size([10000, 28, 28])\n"
     ]
    }
   ],
   "source": [
    "for key, item in  heatmaps.items():\n",
    "    for key_key, item_item in item.items():\n",
    "        print(f\"{key} {key_key} shape: {item_item.size()}\")\n",
    "#heatmaps[\"mnist_vulnerable_pgd\"][\"gt\"].shape"
   ]
  },
  {
   "cell_type": "code",
   "execution_count": 52,
   "metadata": {},
   "outputs": [
    {
     "data": {
      "text/plain": [
       "tensor([1.9819e-05, 1.9819e-05, 1.9819e-05,  ..., 0.0000e+00, 0.0000e+00,\n",
       "        0.0000e+00], dtype=torch.float64)"
      ]
     },
     "execution_count": 52,
     "metadata": {},
     "output_type": "execute_result"
    }
   ],
   "source": [
    "torch.equal(heatmaps[\"mnist_vulnerable_normal\"][\"pred\"],heatmaps[\"mnist_vulnerable_normal\"][\"gt\"])\n",
    "heatmaps[\"mnist_vulnerable_normal\"][\"pred\"][heatmaps[\"mnist_vulnerable_normal\"][\"pred\"]!=heatmaps[\"mnist_vulnerable_normal\"][\"gt\"]]"
   ]
  },
  {
   "cell_type": "markdown",
   "metadata": {},
   "source": [
    "### bboxes"
   ]
  },
  {
   "cell_type": "code",
   "execution_count": 13,
   "metadata": {},
   "outputs": [
    {
     "data": {
      "text/plain": [
       "10000"
      ]
     },
     "execution_count": 13,
     "metadata": {},
     "output_type": "execute_result"
    }
   ],
   "source": [
    "from src.data.MNIST import get_mnist_bounding_box_data_loader\n",
    "\n",
    "#pascal_dir =\n",
    "MNIST_path = os.path.join(os.path.abspath(\"\"),\"Data/\")\n",
    "MNIST_path = os.path.join(\"/home/wh2529/dlnn-project/Data/PascalVOC/VOCdevkit/VOC2012\")\n",
    "\n",
    "dataloaders_bb_mnist = get_mnist_bounding_box_data_loader(MNIST_path)\n",
    "val_loader = dataloaders_bb_mnist['val']\n",
    "len(val_loader.dataset)"
   ]
  },
  {
   "cell_type": "code",
   "execution_count": 14,
   "metadata": {},
   "outputs": [
    {
     "name": "stdout",
     "output_type": "stream",
     "text": [
      "10000\n"
     ]
    }
   ],
   "source": [
    "mnist_val_bboxes = []\n",
    "for batch in val_loader:\n",
    "    #print(len(batch[\"bounding_box\"]))\n",
    "    #print(batch[\"bounding_box\"][0][0])\n",
    "    for i_img in range(len(batch[\"bounding_box\"][0])):\n",
    "        bbox = [int(batch[\"bounding_box\"][0][i_img]),\n",
    "            int(batch[\"bounding_box\"][1][i_img]),\n",
    "            int(batch[\"bounding_box\"][2][i_img]),\n",
    "            int(batch[\"bounding_box\"][3][i_img])]\n",
    "        #print(bbox)\n",
    "        mnist_val_bboxes.append(bbox)\n",
    "        #print(bbox)\n",
    "print(len(mnist_val_bboxes))"
   ]
  },
  {
   "cell_type": "code",
   "execution_count": 12,
   "metadata": {},
   "outputs": [
    {
     "data": {
      "text/plain": [
       "[6, 7, 21, 26]"
      ]
     },
     "execution_count": 12,
     "metadata": {},
     "output_type": "execute_result"
    }
   ],
   "source": [
    "mnist_val_bboxes[0]"
   ]
  },
  {
   "cell_type": "code",
   "execution_count": 15,
   "metadata": {},
   "outputs": [],
   "source": [
    "mnist_val_bounding_maps = _get_bounding_maps_vec_NEW((28,28),mnist_val_bboxes, 1, False)"
   ]
  },
  {
   "cell_type": "code",
   "execution_count": 14,
   "metadata": {},
   "outputs": [
    {
     "name": "stdout",
     "output_type": "stream",
     "text": [
      "torch.Size([10000, 1, 28, 28])\n",
      "torch.Size([10000, 28, 28])\n"
     ]
    }
   ],
   "source": [
    "print(mnist_val_bounding_maps.size())\n",
    "print(heatmaps[\"mnist_pgd_robust_normal\"][\"gt\"].size())"
   ]
  },
  {
   "cell_type": "code",
   "execution_count": 16,
   "metadata": {},
   "outputs": [
    {
     "name": "stdout",
     "output_type": "stream",
     "text": [
      "torch.Size([28, 28])\n",
      "[7, 3, 26, 22]\n",
      "torch.Size([28, 28])\n",
      "tensor(0.0042, dtype=torch.float64)\n"
     ]
    },
    {
     "data": {
      "image/png": "[encoded data removed]",
      "text/plain": [
       "<Figure size 432x288 with 1 Axes>"
      ]
     },
     "metadata": {
      "needs_background": "light"
     },
     "output_type": "display_data"
    }
   ],
   "source": [
    "fig, ax = plt.subplots(1,1)\n",
    "ax.imshow(heatmaps[\"mnist_pgd_robust_normal\"][\"gt\"][1])\n",
    "ax.imshow(mnist_val_bounding_maps[1][0],alpha=0.5)\n",
    "print(heatmaps[\"mnist_pgd_robust_normal\"][\"gt\"][1].size())\n",
    "print(mnist_val_bboxes[1])\n",
    "print(mnist_val_bounding_maps[1][0].size())\n",
    "print(torch.max(heatmaps[\"mnist_pgd_robust_normal\"][\"gt\"][1]))"
   ]
  },
  {
   "cell_type": "code",
   "execution_count": 21,
   "metadata": {},
   "outputs": [],
   "source": [
    "#### CAUTION\n",
    "wious = {}"
   ]
  },
  {
   "cell_type": "code",
   "execution_count": 22,
   "metadata": {
    "collapsed": true,
    "jupyter": {
     "outputs_hidden": true
    },
    "tags": []
   },
   "outputs": [
    {
     "name": "stdout",
     "output_type": "stream",
     "text": [
      "intersections torch.Size([10000, 1, 28, 28])\n",
      "unions torch.Size([10000, 1, 28, 28])\n",
      "weighted_ious_per_bounding_map torch.Size([10000, 1, 1, 1, 1])\n",
      "weighted_ious_per_heatmap torch.Size([10000, 1, 1])\n",
      "weighted_ious_per_img torch.Size([10000])\n",
      "intersections torch.Size([10000, 1, 28, 28])\n",
      "unions torch.Size([10000, 1, 28, 28])\n",
      "weighted_ious_per_bounding_map torch.Size([10000, 1, 1, 1, 1])\n",
      "weighted_ious_per_heatmap torch.Size([10000, 1, 1])\n",
      "weighted_ious_per_img torch.Size([10000])\n",
      "intersections torch.Size([10000, 1, 28, 28])\n",
      "unions torch.Size([10000, 1, 28, 28])\n",
      "weighted_ious_per_bounding_map torch.Size([10000, 1, 1, 1, 1])\n",
      "weighted_ious_per_heatmap torch.Size([10000, 1, 1])\n",
      "weighted_ious_per_img torch.Size([10000])\n",
      "intersections torch.Size([10000, 1, 28, 28])\n",
      "unions torch.Size([10000, 1, 28, 28])\n",
      "weighted_ious_per_bounding_map torch.Size([10000, 1, 1, 1, 1])\n",
      "weighted_ious_per_heatmap torch.Size([10000, 1, 1])\n",
      "weighted_ious_per_img torch.Size([10000])\n",
      "intersections torch.Size([10000, 1, 28, 28])\n",
      "unions torch.Size([10000, 1, 28, 28])\n",
      "weighted_ious_per_bounding_map torch.Size([10000, 1, 1, 1, 1])\n",
      "weighted_ious_per_heatmap torch.Size([10000, 1, 1])\n",
      "weighted_ious_per_img torch.Size([10000])\n",
      "intersections torch.Size([10000, 1, 28, 28])\n",
      "unions torch.Size([10000, 1, 28, 28])\n",
      "weighted_ious_per_bounding_map torch.Size([10000, 1, 1, 1, 1])\n",
      "weighted_ious_per_heatmap torch.Size([10000, 1, 1])\n",
      "weighted_ious_per_img torch.Size([10000])\n",
      "intersections torch.Size([10000, 1, 28, 28])\n",
      "unions torch.Size([10000, 1, 28, 28])\n",
      "weighted_ious_per_bounding_map torch.Size([10000, 1, 1, 1, 1])\n",
      "weighted_ious_per_heatmap torch.Size([10000, 1, 1])\n",
      "weighted_ious_per_img torch.Size([10000])\n",
      "intersections torch.Size([10000, 1, 28, 28])\n",
      "unions torch.Size([10000, 1, 28, 28])\n",
      "weighted_ious_per_bounding_map torch.Size([10000, 1, 1, 1, 1])\n",
      "weighted_ious_per_heatmap torch.Size([10000, 1, 1])\n",
      "weighted_ious_per_img torch.Size([10000])\n"
     ]
    }
   ],
   "source": [
    "wious[\"mnist_vulnerable_normal_gt\"] = get_weighted_iou_mult_class_vec_NEW(\n",
    "    heatmaps[\"mnist_vulnerable_normal\"][\"gt\"], mnist_val_bounding_maps)\n",
    "wious[\"mnist_vulnerable_normal_pred\"] = get_weighted_iou_mult_class_vec_NEW(\n",
    "    heatmaps[\"mnist_vulnerable_normal\"][\"pred\"], mnist_val_bounding_maps)\n",
    "wious[\"mnist_vulnerable_pgd_gt\"] = get_weighted_iou_mult_class_vec_NEW(\n",
    "    heatmaps[\"mnist_vulnerable_pgd\"][\"gt\"], mnist_val_bounding_maps)\n",
    "wious[\"mnist_vulnerable_pgd_pred\"] = get_weighted_iou_mult_class_vec_NEW(\n",
    "    heatmaps[\"mnist_vulnerable_pgd\"][\"pred\"], mnist_val_bounding_maps)\n",
    "\n",
    "wious[\"mnist_pgd_robust_normal_gt\"] = get_weighted_iou_mult_class_vec_NEW(\n",
    "    heatmaps[\"mnist_pgd_robust_normal\"][\"gt\"], mnist_val_bounding_maps)\n",
    "wious[\"mnist_pgd_robust_normal_pred\"] = get_weighted_iou_mult_class_vec_NEW(\n",
    "    heatmaps[\"mnist_pgd_robust_normal\"][\"pred\"], mnist_val_bounding_maps)\n",
    "wious[\"mnist_pgd_robust_pgd_gt\"] = get_weighted_iou_mult_class_vec_NEW(\n",
    "    heatmaps[\"mnist_pgd_robust_pgd\"][\"gt\"], mnist_val_bounding_maps)\n",
    "wious[\"mnist_pgd_robust_pgd_pred\"] = get_weighted_iou_mult_class_vec_NEW(\n",
    "    heatmaps[\"mnist_pgd_robust_pgd\"][\"pred\"], mnist_val_bounding_maps)\n"
   ]
  },
  {
   "cell_type": "code",
   "execution_count": 40,
   "metadata": {
    "collapsed": true,
    "jupyter": {
     "outputs_hidden": true
    },
    "tags": []
   },
   "outputs": [
    {
     "name": "stdout",
     "output_type": "stream",
     "text": [
      "intersections torch.Size([10000, 1, 28, 28])\n",
      "unions torch.Size([10000, 1, 28, 28])\n",
      "weighted_ious_per_bounding_map torch.Size([10000, 1, 1, 1, 1]) tensor([[[[[0.0000]]]],\n",
      "\n",
      "\n",
      "\n",
      "        [[[[0.0001]]]],\n",
      "\n",
      "\n",
      "\n",
      "        [[[[0.0003]]]],\n",
      "\n",
      "\n",
      "\n",
      "        ...,\n",
      "\n",
      "\n",
      "\n",
      "        [[[[0.0001]]]],\n",
      "\n",
      "\n",
      "\n",
      "        [[[[0.0004]]]],\n",
      "\n",
      "\n",
      "\n",
      "        [[[[0.0002]]]]], dtype=torch.float64)\n",
      "weighted_ious_per_heatmap torch.Size([10000, 1, 1]) tensor([[[0.0000]],\n",
      "\n",
      "        [[0.0001]],\n",
      "\n",
      "        [[0.0003]],\n",
      "\n",
      "        ...,\n",
      "\n",
      "        [[0.0001]],\n",
      "\n",
      "        [[0.0004]],\n",
      "\n",
      "        [[0.0002]]], dtype=torch.float64)\n",
      "weighted_ious_per_img torch.Size([10000]) tensor([0.0000, 0.0001, 0.0003,  ..., 0.0001, 0.0004, 0.0002],\n",
      "       dtype=torch.float64)\n"
     ]
    }
   ],
   "source": []
  },
  {
   "cell_type": "code",
   "execution_count": 23,
   "metadata": {},
   "outputs": [
    {
     "name": "stdout",
     "output_type": "stream",
     "text": [
      "mnist_vulnerable_normal_gt:\t0.0006307614931778128 \t +/- 0.0004389308133738842\n",
      "mnist_vulnerable_normal_pred:\t0.000630706080564945 \t +/- 0.0004409946779956424\n",
      "mnist_vulnerable_pgd_gt:\t0.000874571436031384 \t +/- 0.00046580636991986674\n",
      "mnist_vulnerable_pgd_pred:\t0.0007343281449787463 \t +/- 0.0004538406585077202\n",
      "mnist_pgd_robust_normal_gt:\t0.0015663240303516828 \t +/- 0.0007312653180790875\n",
      "mnist_pgd_robust_normal_pred:\t0.0015757501635838315 \t +/- 0.0007242696313510567\n",
      "mnist_pgd_robust_pgd_gt:\t0.0013121051552339618 \t +/- 0.0006681541825278486\n",
      "mnist_pgd_robust_pgd_pred:\t0.001357898938081362 \t +/- 0.0006574882837898054\n"
     ]
    }
   ],
   "source": [
    "for key, val in wious.items():\n",
    "    print(f\"{key}:\\t{torch.mean(val)} \\t +/- {torch.std(val)}\")"
   ]
  },
  {
   "cell_type": "code",
   "execution_count": 69,
   "metadata": {},
   "outputs": [
    {
     "name": "stdout",
     "output_type": "stream",
     "text": [
      "mnist_vulnerable_normal_gt:\t0.0006307614931778128 \t +/- 0.0004389308133738842\n",
      "mnist_vulnerable_normal_pred:\t0.000630706080564945 \t +/- 0.0004409946779956424\n",
      "mnist_vulnerable_pgd_gt:\t0.000874571436031384 \t +/- 0.00046580636991986674\n",
      "mnist_vulnerable_pgd_pred:\t0.0007343281449787463 \t +/- 0.0004538406585077202\n",
      "mnist_pgd_robust_pgd_gt:\t0.0013121051552339618 \t +/- 0.0006681541825278486\n",
      "mnist_pgd_robust_pgd_pred:\t0.001357898938081362 \t +/- 0.0006574882837898054\n"
     ]
    }
   ],
   "source": [
    "for key, val in wious.items():\n",
    "    print(f\"{key}:\\t{torch.mean(val)} \\t +/- {torch.std(val)}\")"
   ]
  },
  {
   "cell_type": "code",
   "execution_count": 26,
   "metadata": {},
   "outputs": [],
   "source": [
    "# Hellinger distance\n",
    "hd = {}"
   ]
  },
  {
   "cell_type": "code",
   "execution_count": 27,
   "metadata": {},
   "outputs": [
    {
     "name": "stdout",
     "output_type": "stream",
     "text": [
      "torch.Size([10000, 28, 28]) torch.Size([10000, 28, 28])\n",
      "torch.Size([10000, 28, 28]) torch.Size([10000, 28, 28])\n",
      "torch.Size([10000, 28, 28]) torch.Size([10000, 28, 28])\n",
      "torch.Size([10000, 28, 28]) torch.Size([10000, 28, 28])\n"
     ]
    }
   ],
   "source": [
    "hd[\"mnist_vulnerable_normal_gt\"] = hellinger_distance_vec_NEW(\n",
    "    heatmaps[\"mnist_vulnerable_normal\"][\"gt\"], heatmaps[\"mnist_pgd_robust_normal\"][\"gt\"])\n",
    "hd[\"mnist_vulnerable_normal_pred\"] = hellinger_distance_vec_NEW(\n",
    "    heatmaps[\"mnist_vulnerable_normal\"][\"pred\"], heatmaps[\"mnist_pgd_robust_normal\"][\"pred\"])\n",
    "\n",
    "hd[\"mnist_vulnerable_pgd_gt\"] = hellinger_distance_vec_NEW(\n",
    "    heatmaps[\"mnist_vulnerable_pgd\"][\"gt\"], heatmaps[\"mnist_pgd_robust_pgd\"][\"gt\"])\n",
    "hd[\"mnist_vulnerable_pgd_pred\"] = hellinger_distance_vec_NEW(\n",
    "    heatmaps[\"mnist_vulnerable_pgd\"][\"pred\"], heatmaps[\"mnist_pgd_robust_pgd\"][\"pred\"])"
   ]
  },
  {
   "cell_type": "code",
   "execution_count": 31,
   "metadata": {},
   "outputs": [
    {
     "data": {
      "text/plain": [
       "tensor([[0.7734]], dtype=torch.float64)"
      ]
     },
     "execution_count": 31,
     "metadata": {},
     "output_type": "execute_result"
    }
   ],
   "source": [
    "hd[\"mnist_vulnerable_normal_gt\"][0]"
   ]
  },
  {
   "cell_type": "code",
   "execution_count": 29,
   "metadata": {},
   "outputs": [
    {
     "name": "stdout",
     "output_type": "stream",
     "text": [
      "mnist_vulnerable_normal_gt:\t0.4719760324190206 \t +/- 0.2089871788396804\n",
      "mnist_vulnerable_normal_pred:\t0.4745959073583813 \t +/- 0.20915068519503327\n",
      "mnist_vulnerable_pgd_gt:\t0.479029296043874 \t +/- 0.1764465522749056\n",
      "mnist_vulnerable_pgd_pred:\t0.5412569147984887 \t +/- 0.1894796963396032\n"
     ]
    }
   ],
   "source": [
    "for key, val in hd.items():\n",
    "    print(f\"{key}:\\t{torch.mean(val)} \\t +/- {torch.std(val)}\")"
   ]
  },
  {
   "cell_type": "markdown",
   "metadata": {},
   "source": [
    "## Pascal VOC"
   ]
  },
  {
   "cell_type": "markdown",
   "metadata": {},
   "source": [
    "bounding boxes"
   ]
  },
  {
   "cell_type": "code",
   "execution_count": 33,
   "metadata": {},
   "outputs": [],
   "source": [
    "from src.data.PascalVOC import prepare_dataloaders_pascal_voc"
   ]
  },
  {
   "cell_type": "code",
   "execution_count": 34,
   "metadata": {},
   "outputs": [],
   "source": [
    "pascal_dir = os.path.join(\"/home/wh2529/dlnn-project/Data/PascalVOC/VOCdevkit/VOC2012\")\n",
    "dataloaders, classes = prepare_dataloaders_pascal_voc(pascal_dir)"
   ]
  },
  {
   "cell_type": "code",
   "execution_count": 35,
   "metadata": {},
   "outputs": [
    {
     "name": "stdout",
     "output_type": "stream",
     "text": [
      "5823\n"
     ]
    }
   ],
   "source": [
    "filenames = []\n",
    "for batch in dataloaders[\"val\"]:\n",
    "    for i_img in range(len(batch[\"filename\"])):\n",
    "        filenames.append(batch[\"filename\"][i_img].split(\".\")[0].split(\"/\")[-1] + \".xml\")\n",
    "    #print(len(batch[\"filename\"]))\n",
    "    #break\n",
    "print(len(filenames))\n",
    "#print(filenames)"
   ]
  },
  {
   "cell_type": "code",
   "execution_count": 36,
   "metadata": {},
   "outputs": [],
   "source": [
    "#pascal_dir = os.path.join(os.path.abspath(\"\"),\"Data/VOC2012\")\n",
    "pascal_bboxes_dir = os.path.join(pascal_dir,\"Annotations/\")"
   ]
  },
  {
   "cell_type": "code",
   "execution_count": 37,
   "metadata": {
    "tags": []
   },
   "outputs": [
    {
     "name": "stdout",
     "output_type": "stream",
     "text": [
      "5823\n"
     ]
    }
   ],
   "source": [
    "pascal_val_bboxes, pascal_val_sizes = get_bounding_boxes_vec(filenames, pascal_bboxes_dir, return_dict=False)\n",
    "pascal_val_bboxes = resize_bounding_boxes(pascal_val_bboxes, pascal_val_sizes)\n",
    "filenames=[]\n",
    "print(len(pascal_val_bboxes))"
   ]
  },
  {
   "cell_type": "code",
   "execution_count": null,
   "metadata": {},
   "outputs": [],
   "source": []
  },
  {
   "cell_type": "code",
   "execution_count": null,
   "metadata": {},
   "outputs": [],
   "source": [
    "max = 0\n",
    "index = 0\n",
    "for i, bboxes in enumerate(pascal_val_bboxes):\n",
    "    if len(bboxes)>max:\n",
    "        #print(bboxes)\n",
    "        max = len(bboxes)\n",
    "        index = i\n",
    "print(max, index)"
   ]
  },
  {
   "cell_type": "markdown",
   "metadata": {},
   "source": [
    "### Heatmaps"
   ]
  },
  {
   "cell_type": "code",
   "execution_count": 32,
   "metadata": {},
   "outputs": [],
   "source": [
    "heatmaps_pascal_vulnerable_normal_path = os.path.join(\"/home/wh2529/dlnn-project/\",\"heatmaps/pascal_normal_net_normal_input.npy\")\n",
    "heatmaps_pascal_vulnerable_pgd_perturbed_path =  os.path.join(\"/home/wh2529/dlnn-project/\",\"heatmaps/pascal_normal_net_pert_input.npy\")\n",
    "heatmaps_pascal_pgd_robust_normal_path = os.path.join(\"/home/wh2529/dlnn-project/\",\"heatmaps/pascal_robust_net_normal_input.npy\")\n",
    "heatmaps_pascal_pgd_robust_pgd_perturbed_path = os.path.join(\"/home/wh2529/dlnn-project/\",\"heatmaps/pascal_robust_net_perturb_input.npy\")\n",
    "\n",
    "heatmap_paths = {}\n",
    "heatmap_paths[\"pascal_vulnerable_normal\"] = heatmaps_pascal_vulnerable_normal_path\n",
    "heatmap_paths[\"pascal_vulnerable_pgd\"] = heatmaps_pascal_vulnerable_pgd_perturbed_path\n",
    "heatmap_paths[\"pascal_pgd_robust_normal\"] = heatmaps_pascal_pgd_robust_normal_path\n",
    "heatmap_paths[\"pascal_pgd_robust_pgd\"] = heatmaps_pascal_pgd_robust_pgd_perturbed_path\n"
   ]
  },
  {
   "cell_type": "code",
   "execution_count": null,
   "metadata": {},
   "outputs": [],
   "source": []
  },
  {
   "cell_type": "code",
   "execution_count": 34,
   "metadata": {},
   "outputs": [
    {
     "data": {
      "text/plain": [
       "30"
      ]
     },
     "execution_count": 34,
     "metadata": {},
     "output_type": "execute_result"
    }
   ],
   "source": [
    "ceil(len(pascal_val_bboxes)/200)"
   ]
  },
  {
   "cell_type": "code",
   "execution_count": 28,
   "metadata": {},
   "outputs": [],
   "source": [
    "# PRE MAIN\n",
    "# CAUTION\n",
    "wious_pascal = {\"pascal_vulnerable_normal\": {\"gt\":[], \"pred\":[]}, \n",
    "                \"pascal_vulnerable_pgd\": {\"gt\":[], \"pred\":[]},\n",
    "               \"pascal_pgd_robust_normal\": {\"gt\":[], \"pred\":[]},\n",
    "               \"pascal_pgd_robust_pgd\": {\"gt\":[], \"pred\":[]}}"
   ]
  },
  {
   "cell_type": "code",
   "execution_count": 54,
   "metadata": {},
   "outputs": [],
   "source": [
    "# PRE MAIN\n",
    "part = \"pascal_pgd_robust_pgd\"\n",
    "with open(heatmap_paths[part], 'rb') as f:\n",
    "        heatmaps[part][\"pred\"] = torch.from_numpy(np.load(f))\n",
    "        heatmaps[part][\"gt\"] = torch.from_numpy(np.load(f))\n",
    "        heatmaps[part][\"pred_nums\"] = torch.from_numpy(np.load(f))\n",
    "        heatmaps[part][\"gt_nums\"] = torch.from_numpy(np.load(f))\n",
    "        heatmaps[part][\"pred_labels\"] = torch.from_numpy(np.load(f))\n",
    "        heatmaps[part][\"gt_labels\"] = torch.from_numpy(np.load(f))"
   ]
  },
  {
   "cell_type": "code",
   "execution_count": 55,
   "metadata": {
    "collapsed": true,
    "jupyter": {
     "outputs_hidden": true
    },
    "tags": []
   },
   "outputs": [
    {
     "name": "stdout",
     "output_type": "stream",
     "text": [
      "intersections torch.Size([200, 230, 256, 256])\n",
      "unions torch.Size([200, 230, 256, 256])\n",
      "weighted_ious_per_bounding_map torch.Size([200, 5, 46, 1, 1])\n",
      "weighted_ious_per_heatmap torch.Size([200, 5, 1])\n",
      "weighted_ious_per_img torch.Size([200])\n",
      "intersections torch.Size([200, 230, 256, 256])\n",
      "unions torch.Size([200, 230, 256, 256])\n",
      "weighted_ious_per_bounding_map torch.Size([200, 5, 46, 1, 1])\n",
      "weighted_ious_per_heatmap torch.Size([200, 5, 1])\n",
      "weighted_ious_per_img torch.Size([200])\n",
      "intersections torch.Size([200, 230, 256, 256])\n",
      "unions torch.Size([200, 230, 256, 256])\n",
      "weighted_ious_per_bounding_map torch.Size([200, 5, 46, 1, 1])\n",
      "weighted_ious_per_heatmap torch.Size([200, 5, 1])\n",
      "weighted_ious_per_img torch.Size([200])\n",
      "intersections torch.Size([200, 230, 256, 256])\n",
      "unions torch.Size([200, 230, 256, 256])\n",
      "weighted_ious_per_bounding_map torch.Size([200, 5, 46, 1, 1])\n",
      "weighted_ious_per_heatmap torch.Size([200, 5, 1])\n",
      "weighted_ious_per_img torch.Size([200])\n",
      "intersections torch.Size([200, 230, 256, 256])\n",
      "unions torch.Size([200, 230, 256, 256])\n",
      "weighted_ious_per_bounding_map torch.Size([200, 5, 46, 1, 1])\n",
      "weighted_ious_per_heatmap torch.Size([200, 5, 1])\n",
      "weighted_ious_per_img torch.Size([200])\n",
      "intersections torch.Size([200, 230, 256, 256])\n",
      "unions torch.Size([200, 230, 256, 256])\n",
      "weighted_ious_per_bounding_map torch.Size([200, 5, 46, 1, 1])\n",
      "weighted_ious_per_heatmap torch.Size([200, 5, 1])\n",
      "weighted_ious_per_img torch.Size([200])\n",
      "intersections torch.Size([200, 230, 256, 256])\n",
      "unions torch.Size([200, 230, 256, 256])\n",
      "weighted_ious_per_bounding_map torch.Size([200, 5, 46, 1, 1])\n",
      "weighted_ious_per_heatmap torch.Size([200, 5, 1])\n",
      "weighted_ious_per_img torch.Size([200])\n",
      "intersections torch.Size([200, 230, 256, 256])\n",
      "unions torch.Size([200, 230, 256, 256])\n",
      "weighted_ious_per_bounding_map torch.Size([200, 5, 46, 1, 1])\n",
      "weighted_ious_per_heatmap torch.Size([200, 5, 1])\n",
      "weighted_ious_per_img torch.Size([200])\n",
      "intersections torch.Size([200, 230, 256, 256])\n",
      "unions torch.Size([200, 230, 256, 256])\n",
      "weighted_ious_per_bounding_map torch.Size([200, 5, 46, 1, 1])\n",
      "weighted_ious_per_heatmap torch.Size([200, 5, 1])\n",
      "weighted_ious_per_img torch.Size([200])\n",
      "intersections torch.Size([200, 230, 256, 256])\n",
      "unions torch.Size([200, 230, 256, 256])\n",
      "weighted_ious_per_bounding_map torch.Size([200, 5, 46, 1, 1])\n",
      "weighted_ious_per_heatmap torch.Size([200, 5, 1])\n",
      "weighted_ious_per_img torch.Size([200])\n",
      "intersections torch.Size([200, 230, 256, 256])\n",
      "unions torch.Size([200, 230, 256, 256])\n",
      "weighted_ious_per_bounding_map torch.Size([200, 5, 46, 1, 1])\n",
      "weighted_ious_per_heatmap torch.Size([200, 5, 1])\n",
      "weighted_ious_per_img torch.Size([200])\n",
      "intersections torch.Size([200, 230, 256, 256])\n",
      "unions torch.Size([200, 230, 256, 256])\n",
      "weighted_ious_per_bounding_map torch.Size([200, 5, 46, 1, 1])\n",
      "weighted_ious_per_heatmap torch.Size([200, 5, 1])\n",
      "weighted_ious_per_img torch.Size([200])\n",
      "intersections torch.Size([200, 230, 256, 256])\n",
      "unions torch.Size([200, 230, 256, 256])\n",
      "weighted_ious_per_bounding_map torch.Size([200, 5, 46, 1, 1])\n",
      "weighted_ious_per_heatmap torch.Size([200, 5, 1])\n",
      "weighted_ious_per_img torch.Size([200])\n",
      "intersections torch.Size([200, 230, 256, 256])\n",
      "unions torch.Size([200, 230, 256, 256])\n",
      "weighted_ious_per_bounding_map torch.Size([200, 5, 46, 1, 1])\n",
      "weighted_ious_per_heatmap torch.Size([200, 5, 1])\n",
      "weighted_ious_per_img torch.Size([200])\n",
      "intersections torch.Size([200, 230, 256, 256])\n",
      "unions torch.Size([200, 230, 256, 256])\n",
      "weighted_ious_per_bounding_map torch.Size([200, 5, 46, 1, 1])\n",
      "weighted_ious_per_heatmap torch.Size([200, 5, 1])\n",
      "weighted_ious_per_img torch.Size([200])\n",
      "intersections torch.Size([200, 230, 256, 256])\n",
      "unions torch.Size([200, 230, 256, 256])\n",
      "weighted_ious_per_bounding_map torch.Size([200, 5, 46, 1, 1])\n",
      "weighted_ious_per_heatmap torch.Size([200, 5, 1])\n",
      "weighted_ious_per_img torch.Size([200])\n",
      "intersections torch.Size([200, 230, 256, 256])\n",
      "unions torch.Size([200, 230, 256, 256])\n",
      "weighted_ious_per_bounding_map torch.Size([200, 5, 46, 1, 1])\n",
      "weighted_ious_per_heatmap torch.Size([200, 5, 1])\n",
      "weighted_ious_per_img torch.Size([200])\n",
      "intersections torch.Size([200, 230, 256, 256])\n",
      "unions torch.Size([200, 230, 256, 256])\n",
      "weighted_ious_per_bounding_map torch.Size([200, 5, 46, 1, 1])\n",
      "weighted_ious_per_heatmap torch.Size([200, 5, 1])\n",
      "weighted_ious_per_img torch.Size([200])\n",
      "intersections torch.Size([200, 230, 256, 256])\n",
      "unions torch.Size([200, 230, 256, 256])\n",
      "weighted_ious_per_bounding_map torch.Size([200, 5, 46, 1, 1])\n",
      "weighted_ious_per_heatmap torch.Size([200, 5, 1])\n",
      "weighted_ious_per_img torch.Size([200])\n",
      "intersections torch.Size([200, 230, 256, 256])\n",
      "unions torch.Size([200, 230, 256, 256])\n",
      "weighted_ious_per_bounding_map torch.Size([200, 5, 46, 1, 1])\n",
      "weighted_ious_per_heatmap torch.Size([200, 5, 1])\n",
      "weighted_ious_per_img torch.Size([200])\n",
      "intersections torch.Size([200, 230, 256, 256])\n",
      "unions torch.Size([200, 230, 256, 256])\n",
      "weighted_ious_per_bounding_map torch.Size([200, 5, 46, 1, 1])\n",
      "weighted_ious_per_heatmap torch.Size([200, 5, 1])\n",
      "weighted_ious_per_img torch.Size([200])\n",
      "intersections torch.Size([200, 230, 256, 256])\n",
      "unions torch.Size([200, 230, 256, 256])\n",
      "weighted_ious_per_bounding_map torch.Size([200, 5, 46, 1, 1])\n",
      "weighted_ious_per_heatmap torch.Size([200, 5, 1])\n",
      "weighted_ious_per_img torch.Size([200])\n",
      "intersections torch.Size([200, 230, 256, 256])\n",
      "unions torch.Size([200, 230, 256, 256])\n",
      "weighted_ious_per_bounding_map torch.Size([200, 5, 46, 1, 1])\n",
      "weighted_ious_per_heatmap torch.Size([200, 5, 1])\n",
      "weighted_ious_per_img torch.Size([200])\n",
      "intersections torch.Size([200, 230, 256, 256])\n",
      "unions torch.Size([200, 230, 256, 256])\n",
      "weighted_ious_per_bounding_map torch.Size([200, 5, 46, 1, 1])\n",
      "weighted_ious_per_heatmap torch.Size([200, 5, 1])\n",
      "weighted_ious_per_img torch.Size([200])\n",
      "intersections torch.Size([200, 230, 256, 256])\n",
      "unions torch.Size([200, 230, 256, 256])\n",
      "weighted_ious_per_bounding_map torch.Size([200, 5, 46, 1, 1])\n",
      "weighted_ious_per_heatmap torch.Size([200, 5, 1])\n",
      "weighted_ious_per_img torch.Size([200])\n",
      "intersections torch.Size([200, 230, 256, 256])\n",
      "unions torch.Size([200, 230, 256, 256])\n",
      "weighted_ious_per_bounding_map torch.Size([200, 5, 46, 1, 1])\n",
      "weighted_ious_per_heatmap torch.Size([200, 5, 1])\n",
      "weighted_ious_per_img torch.Size([200])\n",
      "intersections torch.Size([200, 230, 256, 256])\n",
      "unions torch.Size([200, 230, 256, 256])\n",
      "weighted_ious_per_bounding_map torch.Size([200, 5, 46, 1, 1])\n",
      "weighted_ious_per_heatmap torch.Size([200, 5, 1])\n",
      "weighted_ious_per_img torch.Size([200])\n",
      "intersections torch.Size([200, 230, 256, 256])\n",
      "unions torch.Size([200, 230, 256, 256])\n",
      "weighted_ious_per_bounding_map torch.Size([200, 5, 46, 1, 1])\n",
      "weighted_ious_per_heatmap torch.Size([200, 5, 1])\n",
      "weighted_ious_per_img torch.Size([200])\n",
      "intersections torch.Size([200, 230, 256, 256])\n",
      "unions torch.Size([200, 230, 256, 256])\n",
      "weighted_ious_per_bounding_map torch.Size([200, 5, 46, 1, 1])\n",
      "weighted_ious_per_heatmap torch.Size([200, 5, 1])\n",
      "weighted_ious_per_img torch.Size([200])\n",
      "intersections torch.Size([200, 230, 256, 256])\n",
      "unions torch.Size([200, 230, 256, 256])\n",
      "weighted_ious_per_bounding_map torch.Size([200, 5, 46, 1, 1])\n",
      "weighted_ious_per_heatmap torch.Size([200, 5, 1])\n",
      "weighted_ious_per_img torch.Size([200])\n",
      "intersections torch.Size([200, 230, 256, 256])\n",
      "unions torch.Size([200, 230, 256, 256])\n",
      "weighted_ious_per_bounding_map torch.Size([200, 5, 46, 1, 1])\n",
      "weighted_ious_per_heatmap torch.Size([200, 5, 1])\n",
      "weighted_ious_per_img torch.Size([200])\n",
      "intersections torch.Size([200, 230, 256, 256])\n",
      "unions torch.Size([200, 230, 256, 256])\n",
      "weighted_ious_per_bounding_map torch.Size([200, 5, 46, 1, 1])\n",
      "weighted_ious_per_heatmap torch.Size([200, 5, 1])\n",
      "weighted_ious_per_img torch.Size([200])\n",
      "intersections torch.Size([200, 230, 256, 256])\n",
      "unions torch.Size([200, 230, 256, 256])\n",
      "weighted_ious_per_bounding_map torch.Size([200, 5, 46, 1, 1])\n",
      "weighted_ious_per_heatmap torch.Size([200, 5, 1])\n",
      "weighted_ious_per_img torch.Size([200])\n",
      "intersections torch.Size([200, 230, 256, 256])\n",
      "unions torch.Size([200, 230, 256, 256])\n",
      "weighted_ious_per_bounding_map torch.Size([200, 5, 46, 1, 1])\n",
      "weighted_ious_per_heatmap torch.Size([200, 5, 1])\n",
      "weighted_ious_per_img torch.Size([200])\n",
      "intersections torch.Size([200, 230, 256, 256])\n",
      "unions torch.Size([200, 230, 256, 256])\n",
      "weighted_ious_per_bounding_map torch.Size([200, 5, 46, 1, 1])\n",
      "weighted_ious_per_heatmap torch.Size([200, 5, 1])\n",
      "weighted_ious_per_img torch.Size([200])\n",
      "intersections torch.Size([200, 230, 256, 256])\n",
      "unions torch.Size([200, 230, 256, 256])\n",
      "weighted_ious_per_bounding_map torch.Size([200, 5, 46, 1, 1])\n",
      "weighted_ious_per_heatmap torch.Size([200, 5, 1])\n",
      "weighted_ious_per_img torch.Size([200])\n",
      "intersections torch.Size([200, 230, 256, 256])\n",
      "unions torch.Size([200, 230, 256, 256])\n",
      "weighted_ious_per_bounding_map torch.Size([200, 5, 46, 1, 1])\n",
      "weighted_ious_per_heatmap torch.Size([200, 5, 1])\n",
      "weighted_ious_per_img torch.Size([200])\n",
      "intersections torch.Size([200, 230, 256, 256])\n",
      "unions torch.Size([200, 230, 256, 256])\n",
      "weighted_ious_per_bounding_map torch.Size([200, 5, 46, 1, 1])\n",
      "weighted_ious_per_heatmap torch.Size([200, 5, 1])\n",
      "weighted_ious_per_img torch.Size([200])\n",
      "intersections torch.Size([200, 230, 256, 256])\n",
      "unions torch.Size([200, 230, 256, 256])\n",
      "weighted_ious_per_bounding_map torch.Size([200, 5, 46, 1, 1])\n",
      "weighted_ious_per_heatmap torch.Size([200, 5, 1])\n",
      "weighted_ious_per_img torch.Size([200])\n",
      "intersections torch.Size([200, 230, 256, 256])\n",
      "unions torch.Size([200, 230, 256, 256])\n",
      "weighted_ious_per_bounding_map torch.Size([200, 5, 46, 1, 1])\n",
      "weighted_ious_per_heatmap torch.Size([200, 5, 1])\n",
      "weighted_ious_per_img torch.Size([200])\n",
      "intersections torch.Size([200, 230, 256, 256])\n",
      "unions torch.Size([200, 230, 256, 256])\n",
      "weighted_ious_per_bounding_map torch.Size([200, 5, 46, 1, 1])\n",
      "weighted_ious_per_heatmap torch.Size([200, 5, 1])\n",
      "weighted_ious_per_img torch.Size([200])\n",
      "intersections torch.Size([200, 230, 256, 256])\n",
      "unions torch.Size([200, 230, 256, 256])\n",
      "weighted_ious_per_bounding_map torch.Size([200, 5, 46, 1, 1])\n",
      "weighted_ious_per_heatmap torch.Size([200, 5, 1])\n",
      "weighted_ious_per_img torch.Size([200])\n",
      "intersections torch.Size([200, 230, 256, 256])\n",
      "unions torch.Size([200, 230, 256, 256])\n",
      "weighted_ious_per_bounding_map torch.Size([200, 5, 46, 1, 1])\n",
      "weighted_ious_per_heatmap torch.Size([200, 5, 1])\n",
      "weighted_ious_per_img torch.Size([200])\n",
      "intersections torch.Size([200, 230, 256, 256])\n",
      "unions torch.Size([200, 230, 256, 256])\n",
      "weighted_ious_per_bounding_map torch.Size([200, 5, 46, 1, 1])\n",
      "weighted_ious_per_heatmap torch.Size([200, 5, 1])\n",
      "weighted_ious_per_img torch.Size([200])\n",
      "intersections torch.Size([200, 230, 256, 256])\n",
      "unions torch.Size([200, 230, 256, 256])\n",
      "weighted_ious_per_bounding_map torch.Size([200, 5, 46, 1, 1])\n",
      "weighted_ious_per_heatmap torch.Size([200, 5, 1])\n",
      "weighted_ious_per_img torch.Size([200])\n",
      "intersections torch.Size([200, 230, 256, 256])\n",
      "unions torch.Size([200, 230, 256, 256])\n",
      "weighted_ious_per_bounding_map torch.Size([200, 5, 46, 1, 1])\n",
      "weighted_ious_per_heatmap torch.Size([200, 5, 1])\n",
      "weighted_ious_per_img torch.Size([200])\n",
      "intersections torch.Size([200, 230, 256, 256])\n",
      "unions torch.Size([200, 230, 256, 256])\n",
      "weighted_ious_per_bounding_map torch.Size([200, 5, 46, 1, 1])\n",
      "weighted_ious_per_heatmap torch.Size([200, 5, 1])\n",
      "weighted_ious_per_img torch.Size([200])\n",
      "intersections torch.Size([200, 230, 256, 256])\n",
      "unions torch.Size([200, 230, 256, 256])\n",
      "weighted_ious_per_bounding_map torch.Size([200, 5, 46, 1, 1])\n",
      "weighted_ious_per_heatmap torch.Size([200, 5, 1])\n",
      "weighted_ious_per_img torch.Size([200])\n",
      "intersections torch.Size([200, 230, 256, 256])\n",
      "unions torch.Size([200, 230, 256, 256])\n",
      "weighted_ious_per_bounding_map torch.Size([200, 5, 46, 1, 1])\n",
      "weighted_ious_per_heatmap torch.Size([200, 5, 1])\n",
      "weighted_ious_per_img torch.Size([200])\n",
      "intersections torch.Size([200, 230, 256, 256])\n",
      "unions torch.Size([200, 230, 256, 256])\n",
      "weighted_ious_per_bounding_map torch.Size([200, 5, 46, 1, 1])\n",
      "weighted_ious_per_heatmap torch.Size([200, 5, 1])\n",
      "weighted_ious_per_img torch.Size([200])\n",
      "intersections torch.Size([200, 230, 256, 256])\n",
      "unions torch.Size([200, 230, 256, 256])\n",
      "weighted_ious_per_bounding_map torch.Size([200, 5, 46, 1, 1])\n",
      "weighted_ious_per_heatmap torch.Size([200, 5, 1])\n",
      "weighted_ious_per_img torch.Size([200])\n",
      "intersections torch.Size([200, 230, 256, 256])\n",
      "unions torch.Size([200, 230, 256, 256])\n",
      "weighted_ious_per_bounding_map torch.Size([200, 5, 46, 1, 1])\n",
      "weighted_ious_per_heatmap torch.Size([200, 5, 1])\n",
      "weighted_ious_per_img torch.Size([200])\n",
      "intersections torch.Size([200, 230, 256, 256])\n",
      "unions torch.Size([200, 230, 256, 256])\n",
      "weighted_ious_per_bounding_map torch.Size([200, 5, 46, 1, 1])\n",
      "weighted_ious_per_heatmap torch.Size([200, 5, 1])\n",
      "weighted_ious_per_img torch.Size([200])\n",
      "intersections torch.Size([200, 230, 256, 256])\n",
      "unions torch.Size([200, 230, 256, 256])\n",
      "weighted_ious_per_bounding_map torch.Size([200, 5, 46, 1, 1])\n",
      "weighted_ious_per_heatmap torch.Size([200, 5, 1])\n",
      "weighted_ious_per_img torch.Size([200])\n",
      "intersections torch.Size([200, 230, 256, 256])\n",
      "unions torch.Size([200, 230, 256, 256])\n",
      "weighted_ious_per_bounding_map torch.Size([200, 5, 46, 1, 1])\n",
      "weighted_ious_per_heatmap torch.Size([200, 5, 1])\n",
      "weighted_ious_per_img torch.Size([200])\n",
      "intersections torch.Size([200, 230, 256, 256])\n",
      "unions torch.Size([200, 230, 256, 256])\n",
      "weighted_ious_per_bounding_map torch.Size([200, 5, 46, 1, 1])\n",
      "weighted_ious_per_heatmap torch.Size([200, 5, 1])\n",
      "weighted_ious_per_img torch.Size([200])\n",
      "intersections torch.Size([200, 230, 256, 256])\n",
      "unions torch.Size([200, 230, 256, 256])\n",
      "weighted_ious_per_bounding_map torch.Size([200, 5, 46, 1, 1])\n",
      "weighted_ious_per_heatmap torch.Size([200, 5, 1])\n",
      "weighted_ious_per_img torch.Size([200])\n",
      "intersections torch.Size([200, 230, 256, 256])\n",
      "unions torch.Size([200, 230, 256, 256])\n",
      "weighted_ious_per_bounding_map torch.Size([200, 5, 46, 1, 1])\n",
      "weighted_ious_per_heatmap torch.Size([200, 5, 1])\n",
      "weighted_ious_per_img torch.Size([200])\n",
      "intersections torch.Size([23, 230, 256, 256])\n",
      "unions torch.Size([23, 230, 256, 256])\n",
      "weighted_ious_per_bounding_map torch.Size([23, 5, 46, 1, 1])\n",
      "weighted_ious_per_heatmap torch.Size([23, 5, 1])\n",
      "weighted_ious_per_img torch.Size([23])\n",
      "intersections torch.Size([23, 230, 256, 256])\n",
      "unions torch.Size([23, 230, 256, 256])\n",
      "weighted_ious_per_bounding_map torch.Size([23, 5, 46, 1, 1])\n",
      "weighted_ious_per_heatmap torch.Size([23, 5, 1])\n",
      "weighted_ious_per_img torch.Size([23])\n"
     ]
    }
   ],
   "source": [
    "# MAIN\n",
    "chunk = 200\n",
    "\n",
    "counters_gt = [0]\n",
    "counters_pred = [0]\n",
    "for i in range(ceil(len(pascal_val_bboxes)/chunk)):\n",
    "    # part bounding_maps from all bounding_boxes\n",
    "    pascal_val_bounding_maps = _get_bounding_maps_vec_NEW((256,256),pascal_val_bboxes[i*chunk:(i+1)*chunk],46, input_dict=False)\n",
    "    \n",
    "    # part heatmaps (post-processing from storage) from all heatmaps        \n",
    "    my_heatmaps_nums = {}\n",
    "    my_heatmaps_nums[\"pred_nums\"] = heatmaps[part][\"pred_nums\"][i*chunk:(i+1)*chunk]\n",
    "    my_heatmaps_nums[\"gt_nums\"] = heatmaps[part][\"gt_nums\"][i*chunk:(i+1)*chunk]\n",
    "    \n",
    "    my_heatmaps_pred_list, my_heatmaps_gt_list = [], []\n",
    "    counter_gt, counter_pred = counters_gt[i], counters_pred[i]\n",
    "    for i_img in range(my_heatmaps_nums[\"pred_nums\"].size()[0]):\n",
    "        j_img = i_img + i*chunk # true \n",
    "        #print(my_heatmaps_nums[\"pred_nums\"][i_img])\n",
    "        num_i_pred = int(my_heatmaps_nums[\"pred_nums\"][i_img])\n",
    "        num_i_gt = int(my_heatmaps_nums[\"gt_nums\"][i_img])\n",
    "        my_heatmaps_pred_list.append(heatmaps[part][\"pred\"][counter_pred:counter_pred+num_i_pred])\n",
    "        my_heatmaps_gt_list.append(heatmaps[part][\"gt\"][counter_gt:counter_gt+num_i_gt])\n",
    "        counter_pred += num_i_pred\n",
    "        counter_gt += num_i_gt\n",
    "    counters_pred.append(counter_pred)\n",
    "    counters_gt.append(counter_gt)\n",
    "    \n",
    "    ## turn heatmaps into tensors of right format\n",
    "    for i_heatmap in range(len(my_heatmaps_pred_list)):\n",
    "        my_heatmaps_pred_list[i_heatmap] = torch.unsqueeze(my_heatmaps_pred_list[i_heatmap],0)\n",
    "        my_heatmaps_pred_list[i_heatmap] = _expand_with_zeros(my_heatmaps_pred_list[i_heatmap],1,5)\n",
    "    my_heatmaps_pred_tensor = torch.cat(my_heatmaps_pred_list,dim=0)\n",
    "    for i_heatmap in range(len(my_heatmaps_gt_list)):\n",
    "        my_heatmaps_gt_list[i_heatmap] = torch.unsqueeze(my_heatmaps_gt_list[i_heatmap],0)\n",
    "        my_heatmaps_gt_list[i_heatmap] = _expand_with_zeros(my_heatmaps_gt_list[i_heatmap],1,5)\n",
    "    my_heatmaps_gt_tensor = torch.cat(my_heatmaps_gt_list,dim=0)\n",
    "    \n",
    "    # part wious computation\n",
    "    wious_pascal[part][\"pred\"].append(get_weighted_iou_mult_class_vec_NEW(\n",
    "        my_heatmaps_pred_tensor, pascal_val_bounding_maps))\n",
    "    wious_pascal[part][\"gt\"].append(get_weighted_iou_mult_class_vec_NEW(\n",
    "        my_heatmaps_gt_tensor, pascal_val_bounding_maps))"
   ]
  },
  {
   "cell_type": "code",
   "execution_count": 56,
   "metadata": {},
   "outputs": [
    {
     "data": {
      "text/plain": [
       "23"
      ]
     },
     "execution_count": 56,
     "metadata": {},
     "output_type": "execute_result"
    }
   ],
   "source": [
    "len(wious_pascal[part][\"gt\"][-1])"
   ]
  },
  {
   "cell_type": "code",
   "execution_count": 57,
   "metadata": {},
   "outputs": [
    {
     "name": "stdout",
     "output_type": "stream",
     "text": [
      "5823\n"
     ]
    }
   ],
   "source": [
    "l = 0\n",
    "for j in wious_pascal[part][\"pred\"]:\n",
    "    l += len(j)\n",
    "print(l)"
   ]
  },
  {
   "cell_type": "code",
   "execution_count": 22,
   "metadata": {},
   "outputs": [],
   "source": [
    "wious={}"
   ]
  },
  {
   "cell_type": "code",
   "execution_count": 58,
   "metadata": {},
   "outputs": [],
   "source": [
    "# POST MAIN\n",
    "for suffix in [\"gt\", \"pred\"]:\n",
    "    wious[f\"{part}_{suffix}\"] = torch.cat(wious_pascal[part][suffix])"
   ]
  },
  {
   "cell_type": "code",
   "execution_count": 59,
   "metadata": {},
   "outputs": [
    {
     "name": "stdout",
     "output_type": "stream",
     "text": [
      "pascal_vulnerable_normal_gt:\t0.0068834624253213406 \t +/- 0.005924316123127937\n",
      "pascal_vulnerable_normal_pred:\t0.007397632580250502 \t +/- 0.006244330201297998\n",
      "pascal_vulnerable_pgd_gt:\t0.0036462319549173117 \t +/- 0.004630392882972956\n",
      "pascal_vulnerable_pgd_pred:\t0.006667609792202711 \t +/- 0.005207991227507591\n",
      "pascal_pgd_robust_normal_gt:\t0.00546932453289628 \t +/- 0.004841305315494537\n",
      "pascal_pgd_robust_normal_pred:\t0.007378898561000824 \t +/- 0.005204081069678068\n",
      "pascal_pgd_robust_pgd_gt:\t0.005073805805295706 \t +/- 0.0047365217469632626\n",
      "pascal_pgd_robust_pgd_pred:\t0.007453675381839275 \t +/- 0.0051850671879947186\n"
     ]
    }
   ],
   "source": [
    "for key, val in wious.items():\n",
    "    print(f\"{key}:\\t{torch.mean(val[~torch.isnan(val)])} \\t +/- {torch.std(val[~torch.isnan(val)])}\")"
   ]
  },
  {
   "cell_type": "code",
   "execution_count": null,
   "metadata": {},
   "outputs": [],
   "source": []
  },
  {
   "cell_type": "code",
   "execution_count": null,
   "metadata": {},
   "outputs": [],
   "source": []
  },
  {
   "cell_type": "code",
   "execution_count": 54,
   "metadata": {},
   "outputs": [],
   "source": [
    "# CAUTION\n",
    "hd_pascal = {\"normal\":{\"pred\":[], \"gt\":[]}, \"pgd\":{\"pred\":[], \"gt\":[]}}"
   ]
  },
  {
   "cell_type": "code",
   "execution_count": 67,
   "metadata": {},
   "outputs": [],
   "source": [
    "# PRE HD MAIN\n",
    "part = \"pgd\""
   ]
  },
  {
   "cell_type": "code",
   "execution_count": 68,
   "metadata": {},
   "outputs": [],
   "source": [
    "with open(heatmap_paths[f\"pascal_vulnerable_{part}\"], 'rb') as f:\n",
    "        heatmaps[f\"pascal_vulnerable_{part}\"][\"pred\"] = torch.from_numpy(np.load(f))\n",
    "        heatmaps[f\"pascal_vulnerable_{part}\"][\"gt\"] = torch.from_numpy(np.load(f))\n",
    "        heatmaps[f\"pascal_vulnerable_{part}\"][\"pred_nums\"] = torch.from_numpy(np.load(f))\n",
    "        heatmaps[f\"pascal_vulnerable_{part}\"][\"gt_nums\"] = torch.from_numpy(np.load(f))\n",
    "        heatmaps[f\"pascal_vulnerable_{part}\"][\"pred_labels\"] = torch.from_numpy(np.load(f))\n",
    "        heatmaps[f\"pascal_vulnerable_{part}\"][\"gt_labels\"] = torch.from_numpy(np.load(f))"
   ]
  },
  {
   "cell_type": "code",
   "execution_count": 69,
   "metadata": {},
   "outputs": [],
   "source": [
    "with open(heatmap_paths[f\"pascal_pgd_robust_{part}\"], 'rb') as f:\n",
    "        heatmaps[f\"pascal_pgd_robust_{part}\"][\"pred\"] = torch.from_numpy(np.load(f))\n",
    "        heatmaps[f\"pascal_pgd_robust_{part}\"][\"gt\"] = torch.from_numpy(np.load(f))\n",
    "        heatmaps[f\"pascal_pgd_robust_{part}\"][\"pred_nums\"] = torch.from_numpy(np.load(f))\n",
    "        heatmaps[f\"pascal_pgd_robust_{part}\"][\"gt_nums\"] = torch.from_numpy(np.load(f))\n",
    "        heatmaps[f\"pascal_pgd_robust_{part}\"][\"pred_labels\"] = torch.from_numpy(np.load(f))\n",
    "        heatmaps[f\"pascal_pgd_robust_{part}\"][\"gt_labels\"] = torch.from_numpy(np.load(f))"
   ]
  },
  {
   "cell_type": "code",
   "execution_count": 75,
   "metadata": {},
   "outputs": [
    {
     "data": {
      "text/plain": [
       "torch.Size([4030, 256, 256])"
      ]
     },
     "execution_count": 75,
     "metadata": {},
     "output_type": "execute_result"
    }
   ],
   "source": [
    "heatmaps[f\"pascal_pgd_robust_{part}\"][\"pred\"].size()"
   ]
  },
  {
   "cell_type": "code",
   "execution_count": 76,
   "metadata": {},
   "outputs": [
    {
     "data": {
      "text/plain": [
       "torch.Size([5823])"
      ]
     },
     "execution_count": 76,
     "metadata": {},
     "output_type": "execute_result"
    }
   ],
   "source": [
    "heatmaps[f\"pascal_pgd_robust_{part}\"][\"pred_nums\"].size()"
   ]
  },
  {
   "cell_type": "code",
   "execution_count": 77,
   "metadata": {
    "collapsed": true,
    "jupyter": {
     "outputs_hidden": true
    },
    "tags": []
   },
   "outputs": [
    {
     "name": "stdout",
     "output_type": "stream",
     "text": [
      "torch.Size([200, 5, 256, 256]) torch.Size([200, 5, 256, 256])\n",
      "torch.Size([200, 5, 256, 256]) torch.Size([200, 5, 256, 256])\n",
      "torch.Size([200, 5, 256, 256]) torch.Size([200, 5, 256, 256])\n",
      "torch.Size([200, 5, 256, 256]) torch.Size([200, 5, 256, 256])\n",
      "torch.Size([200, 5, 256, 256]) torch.Size([200, 5, 256, 256])\n",
      "torch.Size([200, 5, 256, 256]) torch.Size([200, 5, 256, 256])\n",
      "torch.Size([200, 5, 256, 256]) torch.Size([200, 5, 256, 256])\n",
      "torch.Size([200, 5, 256, 256]) torch.Size([200, 5, 256, 256])\n",
      "torch.Size([200, 5, 256, 256]) torch.Size([200, 5, 256, 256])\n",
      "torch.Size([200, 5, 256, 256]) torch.Size([200, 5, 256, 256])\n",
      "torch.Size([200, 5, 256, 256]) torch.Size([200, 5, 256, 256])\n",
      "torch.Size([200, 5, 256, 256]) torch.Size([200, 5, 256, 256])\n",
      "torch.Size([200, 5, 256, 256]) torch.Size([200, 5, 256, 256])\n",
      "torch.Size([200, 5, 256, 256]) torch.Size([200, 5, 256, 256])\n",
      "torch.Size([200, 5, 256, 256]) torch.Size([200, 5, 256, 256])\n",
      "torch.Size([200, 5, 256, 256]) torch.Size([200, 5, 256, 256])\n",
      "torch.Size([200, 5, 256, 256]) torch.Size([200, 5, 256, 256])\n",
      "torch.Size([200, 5, 256, 256]) torch.Size([200, 5, 256, 256])\n",
      "torch.Size([200, 5, 256, 256]) torch.Size([200, 5, 256, 256])\n",
      "torch.Size([200, 5, 256, 256]) torch.Size([200, 5, 256, 256])\n",
      "torch.Size([200, 5, 256, 256]) torch.Size([200, 5, 256, 256])\n",
      "torch.Size([200, 5, 256, 256]) torch.Size([200, 5, 256, 256])\n",
      "torch.Size([200, 5, 256, 256]) torch.Size([200, 5, 256, 256])\n",
      "torch.Size([200, 5, 256, 256]) torch.Size([200, 5, 256, 256])\n",
      "torch.Size([200, 5, 256, 256]) torch.Size([200, 5, 256, 256])\n",
      "torch.Size([200, 5, 256, 256]) torch.Size([200, 5, 256, 256])\n",
      "torch.Size([200, 5, 256, 256]) torch.Size([200, 5, 256, 256])\n",
      "torch.Size([200, 5, 256, 256]) torch.Size([200, 5, 256, 256])\n",
      "torch.Size([200, 5, 256, 256]) torch.Size([200, 5, 256, 256])\n",
      "torch.Size([200, 5, 256, 256]) torch.Size([200, 5, 256, 256])\n",
      "torch.Size([200, 5, 256, 256]) torch.Size([200, 5, 256, 256])\n",
      "torch.Size([200, 5, 256, 256]) torch.Size([200, 5, 256, 256])\n",
      "torch.Size([200, 5, 256, 256]) torch.Size([200, 5, 256, 256])\n",
      "torch.Size([200, 5, 256, 256]) torch.Size([200, 5, 256, 256])\n",
      "torch.Size([200, 5, 256, 256]) torch.Size([200, 5, 256, 256])\n",
      "torch.Size([200, 5, 256, 256]) torch.Size([200, 5, 256, 256])\n",
      "torch.Size([200, 5, 256, 256]) torch.Size([200, 5, 256, 256])\n",
      "torch.Size([200, 5, 256, 256]) torch.Size([200, 5, 256, 256])\n",
      "torch.Size([200, 5, 256, 256]) torch.Size([200, 5, 256, 256])\n",
      "torch.Size([200, 5, 256, 256]) torch.Size([200, 5, 256, 256])\n",
      "torch.Size([200, 5, 256, 256]) torch.Size([200, 5, 256, 256])\n",
      "torch.Size([200, 5, 256, 256]) torch.Size([200, 5, 256, 256])\n",
      "torch.Size([200, 5, 256, 256]) torch.Size([200, 5, 256, 256])\n",
      "torch.Size([200, 5, 256, 256]) torch.Size([200, 5, 256, 256])\n",
      "torch.Size([200, 5, 256, 256]) torch.Size([200, 5, 256, 256])\n",
      "torch.Size([200, 5, 256, 256]) torch.Size([200, 5, 256, 256])\n",
      "torch.Size([200, 5, 256, 256]) torch.Size([200, 5, 256, 256])\n",
      "torch.Size([200, 5, 256, 256]) torch.Size([200, 5, 256, 256])\n",
      "torch.Size([200, 5, 256, 256]) torch.Size([200, 5, 256, 256])\n",
      "torch.Size([200, 5, 256, 256]) torch.Size([200, 5, 256, 256])\n",
      "torch.Size([200, 5, 256, 256]) torch.Size([200, 5, 256, 256])\n",
      "torch.Size([200, 5, 256, 256]) torch.Size([200, 5, 256, 256])\n",
      "torch.Size([200, 5, 256, 256]) torch.Size([200, 5, 256, 256])\n",
      "torch.Size([200, 5, 256, 256]) torch.Size([200, 5, 256, 256])\n",
      "torch.Size([200, 5, 256, 256]) torch.Size([200, 5, 256, 256])\n",
      "torch.Size([200, 5, 256, 256]) torch.Size([200, 5, 256, 256])\n",
      "torch.Size([200, 5, 256, 256]) torch.Size([200, 5, 256, 256])\n",
      "torch.Size([200, 5, 256, 256]) torch.Size([200, 5, 256, 256])\n",
      "torch.Size([23, 5, 256, 256]) torch.Size([23, 5, 256, 256])\n",
      "torch.Size([23, 5, 256, 256]) torch.Size([23, 5, 256, 256])\n"
     ]
    }
   ],
   "source": [
    "# Hellinger distance MAIN\n",
    "chunk = 200\n",
    "\n",
    "counters_vulnerable_gt = [0]\n",
    "counters_vulnerable_pred = [0]\n",
    "counters_robust_gt = [0]\n",
    "counters_robust_pred = [0]\n",
    "for i in range(ceil(len(pascal_val_bboxes)/chunk)):\n",
    "    \n",
    "    # part heatmaps (post-processing from storage) from all heatmaps        \n",
    "    my_heatmaps_nums = {}\n",
    "    my_heatmaps_nums[\"pred_nums_vulnerable\"] = heatmaps[f\"pascal_vulnerable_{part}\"][\"pred_nums\"][i*chunk:(i+1)*chunk]\n",
    "    my_heatmaps_nums[\"gt_nums_vulnerable\"] = heatmaps[f\"pascal_vulnerable_{part}\"][\"gt_nums\"][i*chunk:(i+1)*chunk]\n",
    "    my_heatmaps_nums[\"pred_nums_robust\"] = heatmaps[f\"pascal_pgd_robust_{part}\"][\"pred_nums\"][i*chunk:(i+1)*chunk]\n",
    "    my_heatmaps_nums[\"gt_nums_robust\"] = heatmaps[f\"pascal_pgd_robust_{part}\"][\"gt_nums\"][i*chunk:(i+1)*chunk]\n",
    "    \n",
    "    my_heatmaps_vulnerable_pred_list, my_heatmaps_vulenerable_gt_list = [], []\n",
    "    counter_gt, counter_pred = counters_vulnerable_gt[i], counters_vulnerable_pred[i]\n",
    "    for i_img in range(my_heatmaps_nums[\"pred_nums_vulnerable\"].size()[0]):\n",
    "        #print(my_heatmaps_nums[\"pred_nums\"][i_img])\n",
    "        num_i_pred = int(my_heatmaps_nums[\"pred_nums_vulnerable\"][i_img])\n",
    "        num_i_gt = int(my_heatmaps_nums[\"gt_nums_vulnerable\"][i_img])\n",
    "        my_heatmaps_vulnerable_pred_list.append(heatmaps[f\"pascal_vulnerable_{part}\"][\"pred\"][counter_pred:counter_pred+num_i_pred])\n",
    "        my_heatmaps_vulenerable_gt_list.append(heatmaps[f\"pascal_vulnerable_{part}\"][\"gt\"][counter_gt:counter_gt+num_i_gt])\n",
    "        counter_pred += num_i_pred\n",
    "        counter_gt += num_i_gt\n",
    "    counters_vulnerable_pred.append(counter_pred)\n",
    "    counters_vulnerable_gt.append(counter_gt)\n",
    "    \n",
    "    my_heatmaps_robust_pred_list, my_heatmaps_robust_gt_list = [], []\n",
    "    counter_gt, counter_pred = counters_robust_gt[i], counters_robust_pred[i]\n",
    "    for i_img in range(my_heatmaps_nums[\"pred_nums_robust\"].size()[0]):\n",
    "        #print(my_heatmaps_nums[\"pred_nums\"][i_img])\n",
    "        num_i_pred = int(my_heatmaps_nums[\"pred_nums_robust\"][i_img])\n",
    "        num_i_gt = int(my_heatmaps_nums[\"gt_nums_robust\"][i_img])\n",
    "        my_heatmaps_robust_pred_list.append(heatmaps[f\"pascal_pgd_robust_{part}\"][\"pred\"][counter_pred:counter_pred+num_i_pred])\n",
    "        my_heatmaps_robust_gt_list.append(heatmaps[f\"pascal_pgd_robust_{part}\"][\"gt\"][counter_gt:counter_gt+num_i_gt])\n",
    "        counter_pred += num_i_pred\n",
    "        counter_gt += num_i_gt\n",
    "    counters_robust_pred.append(counter_pred)\n",
    "    counters_robust_gt.append(counter_gt)\n",
    "    \n",
    "    ## turn heatmaps into tensors of right format\n",
    "    for i_heatmap in range(len(my_heatmaps_vulnerable_pred_list)):\n",
    "        my_heatmaps_vulnerable_pred_list[i_heatmap] = torch.unsqueeze(my_heatmaps_vulnerable_pred_list[i_heatmap],0)\n",
    "        my_heatmaps_vulnerable_pred_list[i_heatmap] = _expand_with_zeros(my_heatmaps_vulnerable_pred_list[i_heatmap],1,5)\n",
    "    my_heatmaps_vulnerable_pred_tensor = torch.cat(my_heatmaps_vulnerable_pred_list,dim=0)\n",
    "    for i_heatmap in range(len(my_heatmaps_vulenerable_gt_list)):\n",
    "        my_heatmaps_vulenerable_gt_list[i_heatmap] = torch.unsqueeze(my_heatmaps_vulenerable_gt_list[i_heatmap],0)\n",
    "        my_heatmaps_vulenerable_gt_list[i_heatmap] = _expand_with_zeros(my_heatmaps_vulenerable_gt_list[i_heatmap],1,5)\n",
    "    my_heatmaps_vulenerable_gt_tensor = torch.cat(my_heatmaps_vulenerable_gt_list,dim=0)\n",
    "    \n",
    "    for i_heatmap in range(len(my_heatmaps_robust_pred_list)):\n",
    "        my_heatmaps_robust_pred_list[i_heatmap] = torch.unsqueeze(my_heatmaps_robust_pred_list[i_heatmap],0)\n",
    "        my_heatmaps_robust_pred_list[i_heatmap] = _expand_with_zeros(my_heatmaps_robust_pred_list[i_heatmap],1,5)\n",
    "    my_heatmaps_robust_pred_tensor = torch.cat(my_heatmaps_robust_pred_list,dim=0)\n",
    "    for i_heatmap in range(len(my_heatmaps_robust_gt_list)):\n",
    "        my_heatmaps_robust_gt_list[i_heatmap] = torch.unsqueeze(my_heatmaps_robust_gt_list[i_heatmap],0)\n",
    "        my_heatmaps_robust_gt_list[i_heatmap] = _expand_with_zeros(my_heatmaps_robust_gt_list[i_heatmap],1,5)\n",
    "    my_heatmaps_robust_gt_tensor = torch.cat(my_heatmaps_robust_gt_list,dim=0)\n",
    "    \n",
    "    # part hellinger distance computation\n",
    "    hd_pascal[part][\"pred\"].append(hellinger_distance_vec_NEW(\n",
    "        my_heatmaps_vulnerable_pred_tensor, my_heatmaps_robust_pred_tensor))\n",
    "    hd_pascal[part][\"gt\"].append(hellinger_distance_vec_NEW(\n",
    "        my_heatmaps_vulenerable_gt_tensor, my_heatmaps_robust_gt_tensor))"
   ]
  },
  {
   "cell_type": "code",
   "execution_count": 79,
   "metadata": {
    "tags": []
   },
   "outputs": [
    {
     "data": {
      "text/plain": [
       "torch.Size([23, 5, 1, 1])"
      ]
     },
     "execution_count": 79,
     "metadata": {},
     "output_type": "execute_result"
    }
   ],
   "source": [
    "hd_pascal[part][\"pred\"][-1].size()"
   ]
  },
  {
   "cell_type": "code",
   "execution_count": 80,
   "metadata": {},
   "outputs": [
    {
     "name": "stdout",
     "output_type": "stream",
     "text": [
      "5823\n"
     ]
    }
   ],
   "source": [
    "l = 0\n",
    "for j in hd_pascal[part][\"pred\"]:\n",
    "    l += len(j)\n",
    "print(l)"
   ]
  },
  {
   "cell_type": "code",
   "execution_count": 61,
   "metadata": {},
   "outputs": [],
   "source": [
    "# CAUTION\n",
    "hd = {}"
   ]
  },
  {
   "cell_type": "code",
   "execution_count": 81,
   "metadata": {},
   "outputs": [],
   "source": [
    "# POST MAIN\n",
    "for suffix in [\"gt\", \"pred\"]:\n",
    "    hd[f\"{part}_{suffix}\"] = torch.cat(hd_pascal[part][suffix])"
   ]
  },
  {
   "cell_type": "code",
   "execution_count": 82,
   "metadata": {},
   "outputs": [
    {
     "name": "stdout",
     "output_type": "stream",
     "text": [
      "normal_gt:\t6.54032039642334 \t +/- 3.732207775115967\n",
      "normal_pred:\t6.063880443572998 \t +/- 3.4365766048431396\n",
      "pgd_gt:\t5.0761237144470215 \t +/- 3.518789768218994\n",
      "pgd_pred:\t7.90211820602417 \t +/- 3.5919902324676514\n"
     ]
    }
   ],
   "source": [
    "for key, val in hd.items():\n",
    "    print(f\"{key}:\\t{torch.mean(val[~torch.isnan(val)])} \\t +/- {torch.std(val[~torch.isnan(val)])}\")"
   ]
  },
  {
   "cell_type": "code",
   "execution_count": null,
   "metadata": {},
   "outputs": [],
   "source": []
  },
  {
   "cell_type": "code",
   "execution_count": null,
   "metadata": {},
   "outputs": [],
   "source": []
  },
  {
   "cell_type": "code",
   "execution_count": null,
   "metadata": {},
   "outputs": [],
   "source": [
    "# how they were generated:\n",
    "#with open('heatmaps/pascal_robust_net_perturb_input.npy', 'wb') as f:\n",
    "#    np.save(f, adv_pert_pred_heatmap)\n",
    "#    np.save(f, adv_pert_true_heatmap)\n",
    "#    np.save(f, adv_pert_num_preds_pre_sample)\n",
    "#    np.save(f, adv_pert_mum_labels_per_sample)\n",
    "#    np.save(f, adv_pert_all_preds)\n",
    "#    np.save(f, adv_pert_all_labels)"
   ]
  },
  {
   "cell_type": "code",
   "execution_count": 25,
   "metadata": {},
   "outputs": [],
   "source": [
    "with open(heatmaps_pascal_vulnerable_normal_path, 'rb') as f:\n",
    "    heatmaps[\"pascal_vulnerable_normal\"][\"pred\"] = torch.from_numpy(np.load(f))\n",
    "    heatmaps[\"pascal_vulnerable_normal\"][\"gt\"] = torch.from_numpy(np.load(f))\n",
    "    heatmaps[\"pascal_vulnerable_normal\"][\"pred_nums\"] = torch.from_numpy(np.load(f))\n",
    "    heatmaps[\"pascal_vulnerable_normal\"][\"gt_nums\"] = torch.from_numpy(np.load(f))\n",
    "    heatmaps[\"pascal_vulnerable_normal\"][\"pred_labels\"] = torch.from_numpy(np.load(f))\n",
    "    heatmaps[\"pascal_vulnerable_normal\"][\"gt_labels\"] = torch.from_numpy(np.load(f))"
   ]
  },
  {
   "cell_type": "code",
   "execution_count": 90,
   "metadata": {},
   "outputs": [
    {
     "name": "stdout",
     "output_type": "stream",
     "text": [
      "pred torch.Size([6316, 256, 256]) tensor([[0.0004, 0.0004, 0.0004,  ..., 0.0005, 0.0005, 0.0005],\n",
      "        [0.0004, 0.0004, 0.0004,  ..., 0.0005, 0.0005, 0.0005],\n",
      "        [0.0004, 0.0004, 0.0004,  ..., 0.0005, 0.0005, 0.0005],\n",
      "        ...,\n",
      "        [0.0002, 0.0002, 0.0002,  ..., 0.0003, 0.0003, 0.0003],\n",
      "        [0.0002, 0.0002, 0.0002,  ..., 0.0003, 0.0003, 0.0003],\n",
      "        [0.0002, 0.0002, 0.0002,  ..., 0.0003, 0.0003, 0.0003]],\n",
      "       dtype=torch.float64)\n",
      "gt torch.Size([8351, 256, 256]) tensor([[0.0004, 0.0004, 0.0004,  ..., 0.0005, 0.0005, 0.0005],\n",
      "        [0.0004, 0.0004, 0.0004,  ..., 0.0005, 0.0005, 0.0005],\n",
      "        [0.0004, 0.0004, 0.0004,  ..., 0.0005, 0.0005, 0.0005],\n",
      "        ...,\n",
      "        [0.0002, 0.0002, 0.0002,  ..., 0.0003, 0.0003, 0.0003],\n",
      "        [0.0002, 0.0002, 0.0002,  ..., 0.0003, 0.0003, 0.0003],\n",
      "        [0.0002, 0.0002, 0.0002,  ..., 0.0003, 0.0003, 0.0003]],\n",
      "       dtype=torch.float64)\n",
      "pred_nums torch.Size([5823]) tensor(1., dtype=torch.float64)\n",
      "gt_nums torch.Size([5823]) tensor(1., dtype=torch.float64)\n",
      "pred_labels torch.Size([6316]) tensor(0., dtype=torch.float64)\n",
      "gt_labels torch.Size([8351]) tensor(0., dtype=torch.float64)\n",
      "tensor(5., dtype=torch.float64)\n"
     ]
    }
   ],
   "source": [
    "for key,value in heatmaps[\"pascal_vulnerable_normal\"].items():\n",
    "    print(key, value.size(), value[0])\n",
    "print(torch.max(heatmaps[\"pascal_vulnerable_normal\"][\"gt_nums\"]))"
   ]
  },
  {
   "cell_type": "code",
   "execution_count": 27,
   "metadata": {},
   "outputs": [],
   "source": [
    "my_heatmaps_pred, my_heatmaps_gt  = [], []\n",
    "counter_gt, counter_pred = 0, 0\n",
    "for i_img in range(heatmaps[\"pascal_vulnerable_normal\"][\"pred_nums\"].size()[0]):\n",
    "    num_i_pred = int(heatmaps[\"pascal_vulnerable_normal\"][\"pred_nums\"][i_img])\n",
    "    num_i_gt = int(heatmaps[\"pascal_vulnerable_normal\"][\"gt_nums\"][i_img])\n",
    "    my_heatmaps_pred.append(heatmaps[\"pascal_vulnerable_normal\"][\"pred\"][counter_pred:counter_pred+num_i_pred])\n",
    "    my_heatmaps_gt.append(heatmaps[\"pascal_vulnerable_normal\"][\"gt\"][counter_gt:counter_gt+num_i_gt])\n",
    "    counter_pred +=num_i_pred\n",
    "    counter_gt +=num_i_gt"
   ]
  },
  {
   "cell_type": "code",
   "execution_count": 28,
   "metadata": {},
   "outputs": [
    {
     "data": {
      "text/plain": [
       "5823"
      ]
     },
     "execution_count": 28,
     "metadata": {},
     "output_type": "execute_result"
    }
   ],
   "source": [
    "len(my_heatmaps_pred)"
   ]
  },
  {
   "cell_type": "code",
   "execution_count": null,
   "metadata": {
    "tags": []
   },
   "outputs": [],
   "source": [
    "for i_heatmap in range(len(my_heatmaps_pred)):\n",
    "    my_heatmaps_pred[i_heatmap] = torch.unsqueeze(my_heatmaps_pred[i_heatmap],0)\n",
    "    #print(my_heatmaps_pred[i_heatmap].size())\n",
    "    my_heatmaps_pred[i_heatmap] = _expand_with_zeros(my_heatmaps_pred[i_heatmap],1,5)\n",
    "my_heatmaps_pred_tensor = torch.cat(my_heatmaps_pred,dim=0)"
   ]
  },
  {
   "cell_type": "code",
   "execution_count": 40,
   "metadata": {},
   "outputs": [
    {
     "data": {
      "text/plain": [
       "torch.Size([1, 5, 256, 256])"
      ]
     },
     "execution_count": 40,
     "metadata": {},
     "output_type": "execute_result"
    }
   ],
   "source": [
    "my_heatmaps_pred[8].size()"
   ]
  },
  {
   "cell_type": "code",
   "execution_count": 42,
   "metadata": {},
   "outputs": [
    {
     "data": {
      "text/plain": [
       "torch.Size([5823, 5, 5, 256, 256])"
      ]
     },
     "execution_count": 42,
     "metadata": {},
     "output_type": "execute_result"
    }
   ],
   "source": [
    "my_heatmaps_pred_tensor.size()"
   ]
  },
  {
   "cell_type": "code",
   "execution_count": null,
   "metadata": {},
   "outputs": [],
   "source": [
    "# plotting\n",
    "fig, ax = plt.subplots(1,1)\n",
    "ax.imshow(heatmaps[\"pascal_vulnerable_normal\"][\"pred\"][0])\n",
    "ax.imshow(mnist_val_bounding_maps[1][0],alpha=0.5)\n",
    "print(heatmaps[\"mnist_pgd_robust_normal\"][\"gt\"][1].size())\n",
    "print(mnist_val_bboxes[1])\n",
    "print(mnist_val_bounding_maps[1][0].size())\n",
    "print(torch.max(heatmaps[\"mnist_pgd_robust_normal\"][\"gt\"][1]))"
   ]
  },
  {
   "cell_type": "code",
   "execution_count": null,
   "metadata": {},
   "outputs": [],
   "source": [
    "for key, item in  heatmaps.items():\n",
    "    for key_key, item_item in item.items():\n",
    "        print(f\"{key} {key_key} shape: {item_item.size()}\")\n",
    "#heatmaps[\"mnist_vulnerable_pgd\"][\"gt\"].shape"
   ]
  }
 ],
 "metadata": {
  "kernelspec": {
   "display_name": "Python 3",
   "language": "python",
   "name": "python3"
  },
  "language_info": {
   "codemirror_mode": {
    "name": "ipython",
    "version": 3
   },
   "file_extension": ".py",
   "mimetype": "text/x-python",
   "name": "python",
   "nbconvert_exporter": "python",
   "pygments_lexer": "ipython3",
   "version": "3.7.12"
  },
  "vscode": {
   "interpreter": {
    "hash": "22dd540a5afc0f964534e934e7ed0a36a75572b0f301a35d73a17255257f0e0c"
   }
  }
 },
 "nbformat": 4,
 "nbformat_minor": 4
}
