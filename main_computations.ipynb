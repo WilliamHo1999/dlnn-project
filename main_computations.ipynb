{
 "cells": [
  {
   "attachments": {},
   "cell_type": "markdown",
   "metadata": {},
   "source": [
    "# Compute final scores"
   ]
  },
  {
   "cell_type": "code",
   "execution_count": null,
   "metadata": {},
   "outputs": [],
   "source": [
    "# define networks\n",
    "pascal_net_vulnerable = fine tuned\n",
    "pascal_net_pgd_robust = msls # copy load model from train pascal\n",
    "mnist_net_vulnerable = simple_cnn\n",
    "mnist_net_pgd_robust = simple_cnn_adv # copy load_model from heatmaps"
   ]
  },
  {
   "cell_type": "code",
   "execution_count": null,
   "metadata": {},
   "outputs": [],
   "source": [
    "# retrieve computed heatmaps\n",
    "\n",
    "# folder = /heatmaps\n",
    "# take function from compute heatmaps\n",
    "\n",
    "# pascal: save pascal heatmap.py\n",
    "\n",
    "heatmaps = {}\n",
    "heatmaps[\"pascal_vulnerable_normal\"] = \n",
    "heatmaps[\"pascal_vulnerable_pgd\"] = \n",
    "heatmaps[\"pascal_vulnerable_up\"] = \n",
    "heatmaps[\"pascal_robust_normal\"] = \n",
    "heatmaps[\"pascal_robust_pgd\"] = \n",
    "heatmaps[\"pascal_robust_up\"] = \n",
    "#heatmaps[\"pascal_up_robust_normal\"] = \n",
    "#heatmaps[\"pascal_up_robust_pgd\"] = \n",
    "#heatmaps[\"pascal_up_robust_up\"] = \n",
    "heatmaps[\"mnist_vulnerable_normal\"] = \n",
    "heatmaps[\"mnist_vulnerable_pgd\"] = \n",
    "heatmaps[\"mnist_vulnerable_up\"] = \n",
    "heatmaps[\"mnist_robust_normal\"] = \n",
    "heatmaps[\"mnist_robust_pgd\"] = \n",
    "heatmaps[\"mnist_robust_up\"] = \n",
    "#heatmaps[\"mnist_up_robust_normal\"] = \n",
    "#heatmaps[\"mnist_up_robust_pgd\"] = \n",
    "#heatmaps[\"mnist_up_robust_up\"] = "
   ]
  }
 ],
 "metadata": {
  "kernelspec": {
   "display_name": "nndl",
   "language": "python",
   "name": "python3"
  },
  "language_info": {
   "name": "python",
   "version": "3.10.8 (main, Nov 24 2022, 08:09:04) [Clang 14.0.6 ]"
  },
  "orig_nbformat": 4,
  "vscode": {
   "interpreter": {
    "hash": "22dd540a5afc0f964534e934e7ed0a36a75572b0f301a35d73a17255257f0e0c"
   }
  }
 },
 "nbformat": 4,
 "nbformat_minor": 2
}
