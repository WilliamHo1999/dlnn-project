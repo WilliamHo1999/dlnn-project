{
 "cells": [
  {
   "cell_type": "markdown",
   "id": "adf090d7-7a2a-419d-ba2f-076123f8ed96",
   "metadata": {},
   "source": [
    "# Fast Gradient Sign Attack on some ImageNet samples on a Trained ResNet-18"
   ]
  },
  {
   "cell_type": "code",
   "execution_count": null,
   "id": "fe0c8e7d-e3b3-42f5-a6e4-72d3b8b030d1",
   "metadata": {},
   "outputs": [],
   "source": [
    "import torch\n",
    "import torch.nn as nn\n",
    "from torchvision import models\n",
    "from torchvision import transforms\n",
    "\n",
    "from src.data.ImageNet300 import ImageNet300Dataset\n",
    "from src.utils.getimagenetclasses import get_classes\n",
    "from src.attacks.attacks import FastGradientSign"
   ]
  },
  {
   "cell_type": "code",
   "execution_count": null,
   "id": "87cac138-c47a-4eb5-bfbd-251adb99c2c1",
   "metadata": {},
   "outputs": [],
   "source": [
    "resnet_pretrained = models.resnet18(pretrained = True)\n",
    "resnet_pretrained.eval()\n",
    "pass\n",
    "\n",
    "root_dir = r\"C:\\Users\\willi\\Documents\\in5400\\mand1\\prelimcode\\students\\data\\imagenetval300imgs\\imagenet300\"\n",
    "xmllabeldir = r\"C:\\Users\\willi\\Documents\\in5400\\mand1\\prelimcode\\students\\data\\imagenetval300imgs\\val\"\n",
    "synsetfile = r\"C:\\Users\\willi\\Documents\\in5400\\mand1\\prelimcode\\students\\synset_words.txt\"\n",
    "\n",
    "image_transforms =  transforms.Compose([\n",
    "          transforms.Resize((256,256)),\n",
    "          transforms.ToTensor(),\n",
    "          transforms.Normalize([0.485, 0.456, 0.406], [0.229, 0.224, 0.225])\n",
    "    ])\n",
    "\n",
    "\n",
    "dataset = ImageNet300Dataset(root_dir, xmllabeldir, synsetfile, 300, image_transforms)\n",
    "dataloader = torch.utils.data.DataLoader(dataset, batch_size = 8, shuffle = False)\n",
    "\n",
    "classes = get_classes()\n",
    "\n",
    "for samp in dataloader:\n",
    "    break\n",
    "loss_fn = nn.CrossEntropyLoss()"
   ]
  },
  {
   "cell_type": "code",
   "execution_count": null,
   "id": "e38bd90c-6e6e-4c57-8a8f-d973ab9b35b1",
   "metadata": {},
   "outputs": [],
   "source": [
    "fgs = FastGradientSign(resnet_pretrained, loss_fn, return_logits=True)"
   ]
  },
  {
   "cell_type": "markdown",
   "id": "bceb5d92-53bd-40d9-adff-d06c98d6a7f3",
   "metadata": {},
   "source": [
    "## Attack\n"
   ]
  },
  {
   "cell_type": "code",
   "execution_count": null,
   "id": "a336a624-1593-4958-85b2-7ad9814ed060",
   "metadata": {},
   "outputs": [],
   "source": [
    "_, org_pred, new_pred, outputs, new_outputs = fgs(samp['image'], samp['label'])"
   ]
  },
  {
   "cell_type": "markdown",
   "id": "da41a5ec-0c08-418d-9598-f8719b804f51",
   "metadata": {},
   "source": [
    "## How many miss classified\n"
   ]
  },
  {
   "cell_type": "code",
   "execution_count": null,
   "id": "32afe49e-aeac-4d16-9702-4904e34f9642",
   "metadata": {},
   "outputs": [],
   "source": [
    "missclassified = (org_pred != new_pred)\n",
    "torch.sum(missclassified).item(), missclassified"
   ]
  },
  {
   "cell_type": "markdown",
   "id": "8ea29bae-71a9-4306-b76c-c2e79c5e965e",
   "metadata": {},
   "source": [
    "## Choose a sample"
   ]
  },
  {
   "cell_type": "code",
   "execution_count": null,
   "id": "2d757900-7dab-4e31-8d19-ceb34340fb54",
   "metadata": {},
   "outputs": [],
   "source": [
    "samp_idx = 4"
   ]
  },
  {
   "cell_type": "markdown",
   "id": "afaa14d1-9385-4876-ac8a-f4c607878c98",
   "metadata": {},
   "source": [
    "## Logits of most confident class:\n"
   ]
  },
  {
   "cell_type": "code",
   "execution_count": null,
   "id": "e0334b1d-1cb0-404e-aac3-6412241b8f5b",
   "metadata": {},
   "outputs": [],
   "source": [
    "nn.functional.softmax(outputs, dim = 1)[samp_idx].max(), nn.functional.softmax(outputs, dim = 1)[samp_idx].argmax().item()"
   ]
  },
  {
   "cell_type": "markdown",
   "id": "ed61748c-dcf2-4049-89e1-3b8544b28cb9",
   "metadata": {},
   "source": [
    "## Logits of most confident class AFTER ATTACK\n"
   ]
  },
  {
   "cell_type": "code",
   "execution_count": null,
   "id": "f197cadf-044e-4e0a-88bb-1a737e52ef1e",
   "metadata": {},
   "outputs": [],
   "source": [
    "nn.functional.softmax(new_outputs, dim = 1)[samp_idx].max(), nn.functional.softmax(new_outputs, dim = 1)[samp_idx].argmax().item()"
   ]
  },
  {
   "cell_type": "markdown",
   "id": "88348a81-a8d9-47c6-b825-e2ad1fbdda5b",
   "metadata": {},
   "source": [
    "## Logits of the old predicted class AFTER ATTACK"
   ]
  },
  {
   "cell_type": "code",
   "execution_count": null,
   "id": "c6efb829-6c6c-40b9-aae4-d95536dbee74",
   "metadata": {},
   "outputs": [],
   "source": [
    "nn.functional.softmax(new_outputs, dim = 1)[samp_idx][org_pred[samp_idx]]"
   ]
  },
  {
   "cell_type": "markdown",
   "id": "d733c1d1-4f28-489a-97ee-a5c505b1fb92",
   "metadata": {},
   "source": [
    "# Dev PGD"
   ]
  },
  {
   "cell_type": "code",
   "execution_count": null,
   "id": "f4d562db-f4a9-43f1-baab-add7e4a0a873",
   "metadata": {},
   "outputs": [],
   "source": [
    "class ProjectedGradientDescent(nn.Module):\n",
    "\n",
    "    def __init__(self, model, loss_fn, iterations = 100, device = None, epsilon = 0.25, return_logits = False, norm = 'inf'):\n",
    "        super().__init__()\n",
    "        \"\"\"\n",
    "        args:\n",
    "            norm: \"l2\" or \"inf\"\n",
    "        \"\"\"\n",
    "\n",
    "        if not device:\n",
    "            self.device = torch.device(\"cuda\" if torch.cuda.is_available() else \"cpu\")\n",
    "        else:\n",
    "            self.device = device\n",
    "        \n",
    "        self.model = model\n",
    "        self.loss_fn = loss_fn\n",
    "        self.epsilon = epsilon\n",
    "        self.return_logits = return_logits\n",
    "\n",
    "        self.norm = norm.lower()\n",
    "\n",
    "        self.iterations = iterations\n",
    "\n",
    "        self.fgsm = FastGradientSign(model, loss_fn, device, epsilon, return_logits)\n",
    "\n",
    "    def random_start(self, ball_center):\n",
    "        if self.norm == 'l2':\n",
    "            rand_init = torch.randn_like(ball_center)\n",
    "            unit_init = F.normalize(rand_init.view(rand_init.size(0), -1)).view(rand_init.size())\n",
    "            number_elements = torch.numel(ball_center)\n",
    "            r = (torch.rand(rand_init.size(0)) ** (1.0 / number_elements)) * self.epsilon\n",
    "            r = r[(...,) + (None,) * (r.dim() - 1)]\n",
    "            move_away = r * unit_init\n",
    "            return ball_center + move_away\n",
    "        elif self.norm == 'inf':\n",
    "            move_away = torch.rand_like(ball_center) * self.epsilon * 2 - self.epsilon\n",
    "            return ball_center + move_away\n",
    "\n",
    "    def forward(self, inputs, target, iterations = None):\n",
    "\n",
    "        self.model.train(False)\n",
    "        inputs.requires_grad = True\n",
    "        inputs, target = inputs.to(self.device), target.to(self.device)\n",
    "\n",
    "        self.model.zero_grad()\n",
    "        if inputs.grad is not None:\n",
    "            inputs.grad.zero_()\n",
    "\n",
    "        perturbed_images = inputs.clone()\n",
    "\n",
    "        outputs = self.model(perturbed_images)\n",
    "\n",
    "        # Original prediction\n",
    "        with torch.no_grad():\n",
    "            original_preds = outputs.argmax(1)\n",
    "\n",
    "        if iterations:\n",
    "            num_iterations = iterations\n",
    "        else:\n",
    "            num_iterations = self.iterations\n",
    "\n",
    "        for it in range(num_iterations):\n",
    "            perturbed_image = self.fgsm.single_attack(perturbed_images, target)\n",
    "            \"\"\"\n",
    "            loss = self.loss_fn(outputs, target)\n",
    "            loss.backward()\n",
    "            \n",
    "            input_grad = inputs.grad\n",
    "\n",
    "            update_grad = input_grad.sign()\n",
    "            \n",
    "            perturbed_images = perturbed_images + self.epsilon * update_grad\n",
    "\n",
    "            perturbed_images\n",
    "\n",
    "            self.model.zero_grad()\n",
    "            inputs.grad.zero_()\n",
    "\n",
    "            outputs = self.model(perturbed_images)\n",
    "            \"\"\"\n",
    "\n",
    "\n",
    "        # outputs = self.model(perturbed_images)\n",
    "        # New prediction\n",
    "        with torch.no_grad():\n",
    "            new_preds = outputs.argmax(1)\n",
    "        \n",
    "        if self.return_logits:\n",
    "            return perturbed_images, original_preds, new_preds, outputs, new_outputs\n",
    "        \n",
    "        return perturbed_images, original_preds, new_preds"
   ]
  },
  {
   "cell_type": "code",
   "execution_count": null,
   "id": "830cbdd1-f031-4614-9620-b622f150d4f3",
   "metadata": {},
   "outputs": [],
   "source": [
    "pgd = ProjectedGradientDescent(resnet_pretrained, loss_fn, return_logits=True)"
   ]
  },
  {
   "cell_type": "code",
   "execution_count": null,
   "id": "b933f0ee-e613-4da4-afff-d836b7b29380",
   "metadata": {},
   "outputs": [],
   "source": [
    "pgd(samp['image'], samp['label'])"
   ]
  },
  {
   "cell_type": "code",
   "execution_count": null,
   "id": "4d966800-d7ce-4954-97db-94f5dc24ce7e",
   "metadata": {},
   "outputs": [],
   "source": []
  }
 ],
 "metadata": {
  "kernelspec": {
   "display_name": "Python 3",
   "language": "python",
   "name": "python3"
  },
  "language_info": {
   "codemirror_mode": {
    "name": "ipython",
    "version": 3
   },
   "file_extension": ".py",
   "mimetype": "text/x-python",
   "name": "python",
   "nbconvert_exporter": "python",
   "pygments_lexer": "ipython3",
   "version": "3.7.6"
  }
 },
 "nbformat": 4,
 "nbformat_minor": 5
}
