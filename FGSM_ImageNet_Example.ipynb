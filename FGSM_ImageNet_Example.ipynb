{
 "cells": [
  {
   "cell_type": "markdown",
   "id": "adf090d7-7a2a-419d-ba2f-076123f8ed96",
   "metadata": {},
   "source": [
    "# Fast Gradient Sign Attack on some ImageNet samples on a Trained ResNet-18"
   ]
  },
  {
   "cell_type": "code",
   "execution_count": 1,
   "id": "fe0c8e7d-e3b3-42f5-a6e4-72d3b8b030d1",
   "metadata": {},
   "outputs": [],
   "source": [
    "import torch\n",
    "import torch.nn as nn\n",
    "import torch.nn.functional as F\n",
    "from torchvision import models\n",
    "from torchvision import transforms\n",
    "\n",
    "from src.data.ImageNet300 import ImageNet300Dataset\n",
    "from src.utils.getimagenetclasses import get_classes\n",
    "from src.attacks.attacks import FastGradientSign, ProjectedGradientDescent"
   ]
  },
  {
   "cell_type": "code",
   "execution_count": 2,
   "id": "87cac138-c47a-4eb5-bfbd-251adb99c2c1",
   "metadata": {},
   "outputs": [],
   "source": [
    "resnet_pretrained = models.resnet18(pretrained = True)\n",
    "resnet_pretrained.eval()\n",
    "pass\n",
    "\n",
    "root_dir = r\"C:\\Users\\willi\\Documents\\in5400\\mand1\\prelimcode\\students\\data\\imagenetval300imgs\\imagenet300\"\n",
    "xmllabeldir = r\"C:\\Users\\willi\\Documents\\in5400\\mand1\\prelimcode\\students\\data\\imagenetval300imgs\\val\"\n",
    "synsetfile = r\"C:\\Users\\willi\\Documents\\in5400\\mand1\\prelimcode\\students\\synset_words.txt\"\n",
    "\n",
    "image_transforms =  transforms.Compose([\n",
    "          transforms.Resize((256,256)),\n",
    "          transforms.ToTensor(),\n",
    "          transforms.Normalize([0.485, 0.456, 0.406], [0.229, 0.224, 0.225])\n",
    "    ])\n",
    "\n",
    "\n",
    "dataset = ImageNet300Dataset(root_dir, xmllabeldir, synsetfile, 300, image_transforms)\n",
    "dataloader = torch.utils.data.DataLoader(dataset, batch_size = 8, shuffle = False)\n",
    "\n",
    "classes = get_classes()\n",
    "\n",
    "for samp in dataloader:\n",
    "    break\n",
    "loss_fn = nn.CrossEntropyLoss()"
   ]
  },
  {
   "cell_type": "markdown",
   "id": "595ab5bd-8807-45f3-8a6c-a5519d2674c3",
   "metadata": {},
   "source": [
    "# Fast Gradient Sign Method"
   ]
  },
  {
   "cell_type": "code",
   "execution_count": 3,
   "id": "e38bd90c-6e6e-4c57-8a8f-d973ab9b35b1",
   "metadata": {},
   "outputs": [],
   "source": [
    "fgs = FastGradientSign(resnet_pretrained, loss_fn, return_logits=True)"
   ]
  },
  {
   "cell_type": "markdown",
   "id": "bceb5d92-53bd-40d9-adff-d06c98d6a7f3",
   "metadata": {},
   "source": [
    "## Attack\n"
   ]
  },
  {
   "cell_type": "code",
   "execution_count": 4,
   "id": "a336a624-1593-4958-85b2-7ad9814ed060",
   "metadata": {},
   "outputs": [],
   "source": [
    "_, org_pred, new_pred, outputs, new_outputs = fgs(samp['image'], samp['label'])"
   ]
  },
  {
   "cell_type": "markdown",
   "id": "da41a5ec-0c08-418d-9598-f8719b804f51",
   "metadata": {},
   "source": [
    "## How many miss classified\n"
   ]
  },
  {
   "cell_type": "code",
   "execution_count": 5,
   "id": "32afe49e-aeac-4d16-9702-4904e34f9642",
   "metadata": {},
   "outputs": [
    {
     "data": {
      "text/plain": [
       "(5, tensor([False, False,  True,  True,  True,  True,  True, False]))"
      ]
     },
     "execution_count": 5,
     "metadata": {},
     "output_type": "execute_result"
    }
   ],
   "source": [
    "missclassified = (org_pred != new_pred)\n",
    "torch.sum(missclassified).item(), missclassified"
   ]
  },
  {
   "cell_type": "markdown",
   "id": "8ea29bae-71a9-4306-b76c-c2e79c5e965e",
   "metadata": {},
   "source": [
    "## Choose a sample"
   ]
  },
  {
   "cell_type": "code",
   "execution_count": 6,
   "id": "2d757900-7dab-4e31-8d19-ceb34340fb54",
   "metadata": {},
   "outputs": [],
   "source": [
    "samp_idx = 4"
   ]
  },
  {
   "cell_type": "markdown",
   "id": "afaa14d1-9385-4876-ac8a-f4c607878c98",
   "metadata": {},
   "source": [
    "## Logits of most confident class:\n"
   ]
  },
  {
   "cell_type": "code",
   "execution_count": 7,
   "id": "e0334b1d-1cb0-404e-aac3-6412241b8f5b",
   "metadata": {},
   "outputs": [
    {
     "data": {
      "text/plain": [
       "(tensor(0.2674, grad_fn=<MaxBackward1>), 520)"
      ]
     },
     "execution_count": 7,
     "metadata": {},
     "output_type": "execute_result"
    }
   ],
   "source": [
    "nn.functional.softmax(outputs, dim = 1)[samp_idx].max(), nn.functional.softmax(outputs, dim = 1)[samp_idx].argmax().item()"
   ]
  },
  {
   "cell_type": "markdown",
   "id": "ed61748c-dcf2-4049-89e1-3b8544b28cb9",
   "metadata": {},
   "source": [
    "## Logits of most confident class AFTER ATTACK\n"
   ]
  },
  {
   "cell_type": "code",
   "execution_count": 8,
   "id": "f197cadf-044e-4e0a-88bb-1a737e52ef1e",
   "metadata": {},
   "outputs": [
    {
     "data": {
      "text/plain": [
       "(tensor(0.0632, grad_fn=<MaxBackward1>), 452)"
      ]
     },
     "execution_count": 8,
     "metadata": {},
     "output_type": "execute_result"
    }
   ],
   "source": [
    "nn.functional.softmax(new_outputs, dim = 1)[samp_idx].max(), nn.functional.softmax(new_outputs, dim = 1)[samp_idx].argmax().item()"
   ]
  },
  {
   "cell_type": "markdown",
   "id": "88348a81-a8d9-47c6-b825-e2ad1fbdda5b",
   "metadata": {},
   "source": [
    "## Logits of the old predicted class AFTER ATTACK"
   ]
  },
  {
   "cell_type": "code",
   "execution_count": 9,
   "id": "c6efb829-6c6c-40b9-aae4-d95536dbee74",
   "metadata": {},
   "outputs": [
    {
     "data": {
      "text/plain": [
       "tensor(0.0036, grad_fn=<SelectBackward>)"
      ]
     },
     "execution_count": 9,
     "metadata": {},
     "output_type": "execute_result"
    }
   ],
   "source": [
    "nn.functional.softmax(new_outputs, dim = 1)[samp_idx][org_pred[samp_idx]]"
   ]
  },
  {
   "cell_type": "markdown",
   "id": "d733c1d1-4f28-489a-97ee-a5c505b1fb92",
   "metadata": {},
   "source": [
    "# Projected Gradient Descent Attack"
   ]
  },
  {
   "cell_type": "code",
   "execution_count": 10,
   "id": "830cbdd1-f031-4614-9620-b622f150d4f3",
   "metadata": {},
   "outputs": [],
   "source": [
    "pgd = ProjectedGradientDescent(resnet_pretrained, loss_fn, return_logits=True)"
   ]
  },
  {
   "cell_type": "code",
   "execution_count": 11,
   "id": "b933f0ee-e613-4da4-afff-d836b7b29380",
   "metadata": {},
   "outputs": [],
   "source": [
    "perturbed_images, original_preds, new_preds, outputs, new_outputs = pgd(samp['image'], samp['label'])"
   ]
  },
  {
   "cell_type": "code",
   "execution_count": 12,
   "id": "4d966800-d7ce-4954-97db-94f5dc24ce7e",
   "metadata": {},
   "outputs": [
    {
     "data": {
      "text/plain": [
       "(6, tensor([ True, False,  True,  True,  True,  True,  True, False]))"
      ]
     },
     "execution_count": 12,
     "metadata": {},
     "output_type": "execute_result"
    }
   ],
   "source": [
    "missclassified = (original_preds != new_preds)\n",
    "torch.sum(missclassified).item(), missclassified"
   ]
  },
  {
   "cell_type": "code",
   "execution_count": 13,
   "id": "860748cb-2fa1-473a-a9ec-3883f29c098c",
   "metadata": {},
   "outputs": [],
   "source": [
    "samp_idx = 0"
   ]
  },
  {
   "cell_type": "markdown",
   "id": "4b240edc-c88f-4309-8b7a-c5f05e07b4b7",
   "metadata": {},
   "source": [
    "## Logits of most confident class:\n"
   ]
  },
  {
   "cell_type": "code",
   "execution_count": 14,
   "id": "ca359471-6c83-47ab-9ae8-b88122bfb3f5",
   "metadata": {},
   "outputs": [
    {
     "data": {
      "text/plain": [
       "(tensor(0.3365), 58)"
      ]
     },
     "execution_count": 14,
     "metadata": {},
     "output_type": "execute_result"
    }
   ],
   "source": [
    "nn.functional.softmax(outputs, dim = 1)[samp_idx].max(), nn.functional.softmax(outputs, dim = 1)[samp_idx].argmax().item()"
   ]
  },
  {
   "cell_type": "markdown",
   "id": "631ff29e-0136-46d7-a919-8f0d680ed1bc",
   "metadata": {},
   "source": [
    "## Logits of most confident class AFTER ATTACK\n"
   ]
  },
  {
   "cell_type": "code",
   "execution_count": 15,
   "id": "35b120a8-e9dd-4547-8950-a48641e4dae7",
   "metadata": {},
   "outputs": [
    {
     "data": {
      "text/plain": [
       "(tensor(0.9810), 39)"
      ]
     },
     "execution_count": 15,
     "metadata": {},
     "output_type": "execute_result"
    }
   ],
   "source": [
    "nn.functional.softmax(new_outputs, dim = 1)[samp_idx].max(), nn.functional.softmax(new_outputs, dim = 1)[samp_idx].argmax().item()"
   ]
  },
  {
   "cell_type": "markdown",
   "id": "ce67c9f9-bf03-497f-ba4c-ac32b273993a",
   "metadata": {},
   "source": [
    "## Logits of the old predicted class AFTER ATTACK"
   ]
  },
  {
   "cell_type": "code",
   "execution_count": 16,
   "id": "f25d7330-2b07-408c-b0f0-4966f07a5ed7",
   "metadata": {},
   "outputs": [
    {
     "data": {
      "text/plain": [
       "tensor(8.4297e-08)"
      ]
     },
     "execution_count": 16,
     "metadata": {},
     "output_type": "execute_result"
    }
   ],
   "source": [
    "nn.functional.softmax(new_outputs, dim = 1)[samp_idx][original_preds[samp_idx]]"
   ]
  },
  {
   "cell_type": "code",
   "execution_count": null,
   "id": "24a6521a-15c2-4bc6-8a84-c0afbae31b14",
   "metadata": {},
   "outputs": [],
   "source": []
  }
 ],
 "metadata": {
  "kernelspec": {
   "display_name": "Python 3",
   "language": "python",
   "name": "python3"
  },
  "language_info": {
   "codemirror_mode": {
    "name": "ipython",
    "version": 3
   },
   "file_extension": ".py",
   "mimetype": "text/x-python",
   "name": "python",
   "nbconvert_exporter": "python",
   "pygments_lexer": "ipython3",
   "version": "3.7.6"
  }
 },
 "nbformat": 4,
 "nbformat_minor": 5
}
