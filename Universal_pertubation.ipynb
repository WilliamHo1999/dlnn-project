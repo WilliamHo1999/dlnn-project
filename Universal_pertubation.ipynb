{
 "cells": [
  {
   "cell_type": "code",
   "execution_count": null,
   "id": "101f7753-efcf-477c-80b9-07325a791724",
   "metadata": {},
   "outputs": [],
   "source": [
    "import os\n",
    "import json\n",
    "import PIL.Image\n",
    "import random\n",
    "import numpy as np\n",
    "\n",
    "import torch\n",
    "import torch.nn as nn\n",
    "from torch.utils.data import DataLoader\n",
    "import torchvision\n",
    "\n",
    "from src.data.PascalVOC import dataset_voc, prepare_dataloaders_pascal_voc\n",
    "from src.attacks.attacks import FastGradientSign, ProjectedGradientDescent, UniversalPerturbation\n",
    "from src.training.Trainer import Trainer"
   ]
  },
  {
   "cell_type": "code",
   "execution_count": null,
   "id": "d4b7dad1-8cf2-4f1c-a607-a3fae826979f",
   "metadata": {},
   "outputs": [],
   "source": [
    "def load_model(num_classes = 20, model_path = None, to_cuda = True):\n",
    "    if not model_path:\n",
    "        model = torchvision.models.resnet18(pretrained = True)\n",
    "        input_feat = model.fc.in_features\n",
    "        \n",
    "        model.fc = nn.Linear(input_feat, num_classes)\n",
    "        model.fc.reset_parameters()\n",
    "        loaded_state_dict = False\n",
    "    \n",
    "    else:\n",
    "        print(\"Loaded\", model_path)\n",
    "        model = torchvision.models.resnet18()\n",
    "        input_feat = model.fc.in_features\n",
    "        model.fc = nn.Linear(input_feat, num_classes)\n",
    "        loaded_model = torch.load(model_path)\n",
    "        model.load_state_dict(loaded_model['model_state_dict'])\n",
    "        loaded_state_dict = True\n",
    "        \n",
    "    if to_cuda:\n",
    "        model = model.to('cuda')\n",
    "        \n",
    "    return model, loaded_state_dict"
   ]
  },
  {
   "cell_type": "code",
   "execution_count": null,
   "id": "55502a39-ffbe-4257-840a-bbfb95024937",
   "metadata": {},
   "outputs": [],
   "source": [
    "resnet, loaded_state_dict = load_model(model_path = 'models/pascal_voc_resnet_fine_tuned.pt')\n",
    "\n",
    "for name, param in resnet.named_parameters():\n",
    "    if 'fc' not in name:\n",
    "        param.requires_grad = False"
   ]
  },
  {
   "cell_type": "code",
   "execution_count": null,
   "id": "82f4ce0e-41f6-4fa4-93a3-96b790599333",
   "metadata": {},
   "outputs": [],
   "source": [
    "root_dir = 'Data/PascalVOC/VOCdevkit/VOC2012'\n",
    "config = {\n",
    "    'lr': 0.005,\n",
    "    'batch_size': 64,\n",
    "    'weight_decay': 0.01\n",
    "}\n",
    "\n",
    "DEVICE = torch.device(\"cuda\" if torch.cuda.is_available() else \"cpu\")"
   ]
  },
  {
   "cell_type": "code",
   "execution_count": null,
   "id": "388134f4-b7da-4c8e-83a4-3fb062f5e691",
   "metadata": {},
   "outputs": [],
   "source": [
    "dataloaders, classes = prepare_dataloaders_pascal_voc(root_dir, batch_size = 500)\n",
    "\n",
    "loss_fn = nn.BCEWithLogitsLoss(weight=None, reduction='mean')\n",
    "\n",
    "training_params = {\n",
    "    'dataloaders': dataloaders,\n",
    "    'optimizer': optimizer,\n",
    "    'scheduler': scheduler\n",
    "}"
   ]
  },
  {
   "cell_type": "code",
   "execution_count": null,
   "id": "8bdb7743-be40-43ea-9930-61178850d7a2",
   "metadata": {},
   "outputs": [],
   "source": [
    "for samp in dataloaders['train']:\n",
    "    break"
   ]
  },
  {
   "cell_type": "code",
   "execution_count": null,
   "id": "2c896606-045c-47ff-a1e6-81eea0bdac8e",
   "metadata": {},
   "outputs": [],
   "source": [
    "images = samp['image']\n",
    "labels = samp['label']"
   ]
  },
  {
   "cell_type": "code",
   "execution_count": null,
   "id": "f9e290d8-e46b-4cdc-8d6a-5c75c40cfb9f",
   "metadata": {},
   "outputs": [],
   "source": [
    "uni_pert = UniversalPerturbation(resnet, loss_fn)"
   ]
  },
  {
   "cell_type": "code",
   "execution_count": null,
   "id": "bbf45d5c-3131-4080-92cc-7e3d4992a21a",
   "metadata": {},
   "outputs": [],
   "source": [
    "vector = uni_pert.compute_perturbation(images, labels)"
   ]
  }
 ],
 "metadata": {
  "kernelspec": {
   "display_name": "Python 3",
   "language": "python",
   "name": "python3"
  },
  "language_info": {
   "codemirror_mode": {
    "name": "ipython",
    "version": 3
   },
   "file_extension": ".py",
   "mimetype": "text/x-python",
   "name": "python",
   "nbconvert_exporter": "python",
   "pygments_lexer": "ipython3",
   "version": "3.7.12"
  }
 },
 "nbformat": 4,
 "nbformat_minor": 5
}
